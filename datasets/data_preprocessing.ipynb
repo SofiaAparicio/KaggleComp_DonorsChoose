{
 "cells": [
  {
   "cell_type": "markdown",
   "metadata": {},
   "source": [
    "# Data Preprocessing\n",
    "\n",
    "This notebook goal is to preprocess the data for the DonorsChoose.org Kaggle challenge. From the data exploration (EDA.ipynb) it was possible to understand what are the columns that need to be preprocessed and how they should be handled for the data to be eligible has an input to a machine learning model.\n",
    "\n",
    "I will do the preprocessing of the data dataset by dataset, in the end I will merge all the resultant datasets."
   ]
  },
  {
   "cell_type": "code",
   "execution_count": 53,
   "metadata": {},
   "outputs": [],
   "source": [
    "# import libraries\n",
    "import numpy as np\n",
    "import pandas as pd\n",
    "import matplotlib.pyplot as plt\n",
    "import seaborn as sns\n",
    "import plotly.express as px\n",
    "import plotly.graph_objects as go\n",
    "import plotly.figure_factory as ff\n",
    "from wordcloud import WordCloud\n",
    "from collections import Counter\n",
    "import operator\n",
    "import warnings\n",
    "warnings.filterwarnings('ignore')\n",
    "from datetime import datetime\n",
    "import time\n",
    "from sklearn.preprocessing import LabelEncoder\n",
    "from geopy.geocoders import Nominatim\n",
    "from collections import Counter\n",
    "\n",
    "from keras.models import Model, load_model\n",
    "from keras import regularizers, losses"
   ]
  },
  {
   "cell_type": "code",
   "execution_count": 54,
   "metadata": {},
   "outputs": [],
   "source": [
    "# to import from parallel directory\n",
    "import os,sys,inspect\n",
    "current_dir = os.path.dirname(os.path.abspath(inspect.getfile(inspect.currentframe())))\n",
    "parent_dir = os.path.dirname(current_dir)\n",
    "sys.path.insert(0, parent_dir)\n",
    "\n",
    "from src.aux_functions import *"
   ]
  },
  {
   "cell_type": "markdown",
   "metadata": {},
   "source": [
    "## Outcomes.csv\n",
    "\n",
    "In this dataset we will only use the column is_exciting. Since this dataset has only information from the training set, all the other parameters are useless for the model.\n",
    "\n",
    "Regarding the information on the EDA.ipynb, I will only use the data starting in 01-2010 until 11-2013."
   ]
  },
  {
   "cell_type": "code",
   "execution_count": 3,
   "metadata": {},
   "outputs": [],
   "source": [
    "# Load dataset outcomes \n",
    "outcomes = pd.read_csv('outcomes.csv')\n",
    "\n",
    "# Load dataset project to extract date when the project was posted\n",
    "projects = pd.read_csv('projects.csv')"
   ]
  },
  {
   "cell_type": "code",
   "execution_count": 4,
   "metadata": {},
   "outputs": [],
   "source": [
    "# Extract only the project after 2009\n",
    "\n",
    "merged = pd.merge(projects[['projectid','date_posted']], outcomes[['projectid','is_exciting']], on='projectid')\n",
    "merged['year'] = pd.DatetimeIndex(merged['date_posted']).year\n",
    "after2010 = merged[merged['year'] > 2009]\n"
   ]
  },
  {
   "cell_type": "code",
   "execution_count": 5,
   "metadata": {},
   "outputs": [
    {
     "data": {
      "text/html": [
       "<div>\n",
       "<style scoped>\n",
       "    .dataframe tbody tr th:only-of-type {\n",
       "        vertical-align: middle;\n",
       "    }\n",
       "\n",
       "    .dataframe tbody tr th {\n",
       "        vertical-align: top;\n",
       "    }\n",
       "\n",
       "    .dataframe thead th {\n",
       "        text-align: right;\n",
       "    }\n",
       "</style>\n",
       "<table border=\"1\" class=\"dataframe\">\n",
       "  <thead>\n",
       "    <tr style=\"text-align: right;\">\n",
       "      <th></th>\n",
       "      <th>projectid</th>\n",
       "      <th>date_posted</th>\n",
       "      <th>is_exciting</th>\n",
       "      <th>year</th>\n",
       "    </tr>\n",
       "  </thead>\n",
       "  <tbody>\n",
       "    <tr>\n",
       "      <th>0</th>\n",
       "      <td>62526d85d2a1818432d03d600969e99c</td>\n",
       "      <td>2013-12-31</td>\n",
       "      <td>f</td>\n",
       "      <td>2013</td>\n",
       "    </tr>\n",
       "  </tbody>\n",
       "</table>\n",
       "</div>"
      ],
      "text/plain": [
       "                          projectid date_posted is_exciting  year\n",
       "0  62526d85d2a1818432d03d600969e99c  2013-12-31           f  2013"
      ]
     },
     "execution_count": 5,
     "metadata": {},
     "output_type": "execute_result"
    }
   ],
   "source": [
    "after2010.head(n=1)"
   ]
  },
  {
   "cell_type": "code",
   "execution_count": 6,
   "metadata": {},
   "outputs": [],
   "source": [
    "train_y = after2010[['projectid', 'is_exciting', 'year']]"
   ]
  },
  {
   "cell_type": "code",
   "execution_count": 7,
   "metadata": {},
   "outputs": [],
   "source": [
    "train_y = train_y.replace({'is_exciting':{'t':1, 'f':0}})\n"
   ]
  },
  {
   "cell_type": "markdown",
   "metadata": {},
   "source": [
    "For now I will save the year because if I intend to use the data as validation, the validation year needs to be posterio than the training data."
   ]
  },
  {
   "cell_type": "code",
   "execution_count": 8,
   "metadata": {},
   "outputs": [],
   "source": [
    "# Save the data in file train_y.csv\n",
    "train_y.to_pickle('train_y.csv')"
   ]
  },
  {
   "cell_type": "markdown",
   "metadata": {},
   "source": [
    "## Projects.csv\n",
    "\n"
   ]
  },
  {
   "cell_type": "code",
   "execution_count": 9,
   "metadata": {},
   "outputs": [
    {
     "data": {
      "text/html": [
       "<div>\n",
       "<style scoped>\n",
       "    .dataframe tbody tr th:only-of-type {\n",
       "        vertical-align: middle;\n",
       "    }\n",
       "\n",
       "    .dataframe tbody tr th {\n",
       "        vertical-align: top;\n",
       "    }\n",
       "\n",
       "    .dataframe thead th {\n",
       "        text-align: right;\n",
       "    }\n",
       "</style>\n",
       "<table border=\"1\" class=\"dataframe\">\n",
       "  <thead>\n",
       "    <tr style=\"text-align: right;\">\n",
       "      <th></th>\n",
       "      <th>projectid</th>\n",
       "      <th>teacher_acctid</th>\n",
       "      <th>schoolid</th>\n",
       "      <th>school_ncesid</th>\n",
       "      <th>school_latitude</th>\n",
       "      <th>school_longitude</th>\n",
       "      <th>school_city</th>\n",
       "      <th>school_state</th>\n",
       "      <th>school_zip</th>\n",
       "      <th>school_metro</th>\n",
       "      <th>...</th>\n",
       "      <th>resource_type</th>\n",
       "      <th>poverty_level</th>\n",
       "      <th>grade_level</th>\n",
       "      <th>fulfillment_labor_materials</th>\n",
       "      <th>total_price_excluding_optional_support</th>\n",
       "      <th>total_price_including_optional_support</th>\n",
       "      <th>students_reached</th>\n",
       "      <th>eligible_double_your_impact_match</th>\n",
       "      <th>eligible_almost_home_match</th>\n",
       "      <th>date_posted</th>\n",
       "    </tr>\n",
       "  </thead>\n",
       "  <tbody>\n",
       "    <tr>\n",
       "      <th>0</th>\n",
       "      <td>316ed8fb3b81402ff6ac8f721bb31192</td>\n",
       "      <td>42d43fa6f37314365d08692e08680973</td>\n",
       "      <td>c0e6ce89b244764085691a1b8e28cb81</td>\n",
       "      <td>6.362701e+10</td>\n",
       "      <td>36.57634</td>\n",
       "      <td>-119.608713</td>\n",
       "      <td>Selma</td>\n",
       "      <td>CA</td>\n",
       "      <td>93662.0</td>\n",
       "      <td>NaN</td>\n",
       "      <td>...</td>\n",
       "      <td>Books</td>\n",
       "      <td>highest poverty</td>\n",
       "      <td>Grades 6-8</td>\n",
       "      <td>30.0</td>\n",
       "      <td>555.81</td>\n",
       "      <td>653.89</td>\n",
       "      <td>32.0</td>\n",
       "      <td>f</td>\n",
       "      <td>f</td>\n",
       "      <td>2014-05-12</td>\n",
       "    </tr>\n",
       "  </tbody>\n",
       "</table>\n",
       "<p>1 rows × 35 columns</p>\n",
       "</div>"
      ],
      "text/plain": [
       "                          projectid                    teacher_acctid  \\\n",
       "0  316ed8fb3b81402ff6ac8f721bb31192  42d43fa6f37314365d08692e08680973   \n",
       "\n",
       "                           schoolid  school_ncesid  school_latitude  \\\n",
       "0  c0e6ce89b244764085691a1b8e28cb81   6.362701e+10         36.57634   \n",
       "\n",
       "   school_longitude school_city school_state  school_zip school_metro  ...  \\\n",
       "0       -119.608713       Selma           CA     93662.0          NaN  ...   \n",
       "\n",
       "  resource_type    poverty_level grade_level fulfillment_labor_materials  \\\n",
       "0         Books  highest poverty  Grades 6-8                        30.0   \n",
       "\n",
       "  total_price_excluding_optional_support  \\\n",
       "0                                 555.81   \n",
       "\n",
       "  total_price_including_optional_support students_reached  \\\n",
       "0                                 653.89             32.0   \n",
       "\n",
       "  eligible_double_your_impact_match eligible_almost_home_match date_posted  \n",
       "0                                 f                          f  2014-05-12  \n",
       "\n",
       "[1 rows x 35 columns]"
      ]
     },
     "execution_count": 9,
     "metadata": {},
     "output_type": "execute_result"
    }
   ],
   "source": [
    "# load dataset\n",
    "projects = pd.read_csv('projects.csv')\n",
    "projects.head(n=1)\n"
   ]
  },
  {
   "cell_type": "code",
   "execution_count": 10,
   "metadata": {},
   "outputs": [
    {
     "data": {
      "text/plain": [
       "(664098, 35)"
      ]
     },
     "execution_count": 10,
     "metadata": {},
     "output_type": "execute_result"
    }
   ],
   "source": [
    "projects.shape"
   ]
  },
  {
   "cell_type": "code",
   "execution_count": 11,
   "metadata": {},
   "outputs": [],
   "source": [
    "# Extract only the project after 2009\n",
    "\n",
    "projects['year'] = pd.DatetimeIndex(projects['date_posted']).year\n",
    "after2010 = projects[projects['year'] > 2009]\n",
    "\n",
    "projects = pd.merge(projects, after2010['projectid'], on='projectid')\n",
    "\n",
    "del projects['year']"
   ]
  },
  {
   "cell_type": "code",
   "execution_count": 12,
   "metadata": {},
   "outputs": [
    {
     "data": {
      "text/plain": [
       "(484371, 35)"
      ]
     },
     "execution_count": 12,
     "metadata": {},
     "output_type": "execute_result"
    }
   ],
   "source": [
    "projects.shape"
   ]
  },
  {
   "cell_type": "code",
   "execution_count": 13,
   "metadata": {},
   "outputs": [
    {
     "data": {
      "text/plain": [
       "Index(['school_ncesid', 'school_zip', 'school_metro', 'school_district',\n",
       "       'teacher_prefix', 'primary_focus_subject', 'primary_focus_area',\n",
       "       'secondary_focus_subject', 'secondary_focus_area', 'resource_type',\n",
       "       'grade_level', 'students_reached'],\n",
       "      dtype='object')"
      ]
     },
     "execution_count": 13,
     "metadata": {},
     "output_type": "execute_result"
    }
   ],
   "source": [
    "# columns with nan values, after excluding data before 2010\n",
    "projects.columns[projects.isna().sum() > 0]"
   ]
  },
  {
   "cell_type": "markdown",
   "metadata": {},
   "source": [
    "#### Functions to clean Projects Dataset"
   ]
  },
  {
   "cell_type": "code",
   "execution_count": 14,
   "metadata": {},
   "outputs": [],
   "source": [
    "def get_zipcode(projects):\n",
    "    # Replace NaN values in column school_zip\n",
    "    locator = Nominatim(user_agent='myGeocoder')\n",
    "\n",
    "    nanschool_zip = projects[projects['school_zip'].isnull()].index\n",
    "\n",
    "    for i in nanschool_zip:\n",
    "        # Use school_latitude and school_longitude columns\n",
    "        projects['school_zip'][i] = locator.reverse(str(projects['school_latitude'][i]) + \\\n",
    "                                                    ' ,' + str(projects['school_longitude'][i])).raw['address'][\n",
    "            'postcode']\n",
    "    print('Get_zipcode done')\n",
    "    return projects\n",
    "\n",
    "\n",
    "def get_metro(projects):\n",
    "    # Replace NaN values in column school_metro\n",
    "    nanSchool_metro = projects[projects['school_metro'].isnull()].index\n",
    "    c = 0\n",
    "\n",
    "    for i in nanSchool_metro:\n",
    "\n",
    "        new_value = projects[projects['school_city'] == projects['school_city'][i]]['school_metro'].value_counts()\n",
    "\n",
    "        if len(new_value) <= 0:\n",
    "            projects['school_metro'][i] = 'other'  # corresponding to 'Other'\n",
    "            continue\n",
    "\n",
    "        c += 1\n",
    "        projects['school_metro'][i] = new_value.index[0]\n",
    "        \n",
    "    print('Get_metro done')\n",
    "    return projects\n",
    "\n",
    "\n",
    "def projReplaceNan(projects):\n",
    "\n",
    "    projects['teacher_prefix'] = projects['teacher_prefix'].replace(np.nan, 'Other', regex=True)\n",
    "\n",
    "    # Fill NaN of secondary_focus_subject with primary_focus_subject, encode and replace rest of NaN\n",
    "\n",
    "    projects['secondary_focus_subject'].fillna(projects['primary_focus_subject'], inplace=True)\n",
    "    projects['secondary_focus_subject'] = projects['secondary_focus_subject'].replace(np.nan, 'Other', regex=True)\n",
    "\n",
    "    # Fill NaN of secondary_focus_subject with primary_focus_area\n",
    "\n",
    "    projects['secondary_focus_area'].fillna(projects['primary_focus_area'], inplace=True)\n",
    "    projects['secondary_focus_area'] = projects['secondary_focus_area'].replace(np.nan, 'Other', regex=True)\n",
    "\n",
    "    projects['primary_focus_subject'] = projects['primary_focus_subject'].replace(np.nan, 'Other', regex=True)\n",
    "    projects['primary_focus_area'] = projects['primary_focus_area'].replace(np.nan, 'Other', regex=True)\n",
    "    projects['resource_type'] = projects['resource_type'].replace(np.nan, 'NaN', regex=True)\n",
    "    projects['grade_level'] = projects['grade_level'].replace(np.nan, 'NaN', regex=True)\n",
    "    return projects\n",
    "\n",
    "\n",
    "def cleanProjectsDataset(projects):\n",
    "\n",
    "    # Replace NaN values in column school_zip\n",
    "    projects = get_zipcode(projects)\n",
    "\n",
    "    # Replace NaN values in column school_metro\n",
    "    projects = get_metro(projects)\n",
    "\n",
    "\n",
    "    # Convert object type column to boolean\n",
    "    projects = projects.replace({'school_charter': {'t': 1, 'f': 0},\n",
    "                                 'school_magnet': {'t': 1, 'f': 0},\n",
    "                                 'school_year_round': {'t': 1, 'f': 0},\n",
    "                                 'school_nlns': {'t': 1, 'f': 0},\n",
    "                                 'school_kipp': {'t': 1, 'f': 0},\n",
    "                                 'school_charter_ready_promise': {'t': 1, 'f': 0},\n",
    "                                 'teacher_teach_for_america': {'t': 1, 'f': 0},\n",
    "                                 'teacher_ny_teaching_fellow': {'t': 1, 'f': 0},\n",
    "                                 'eligible_double_your_impact_match': {'t': 1, 'f': 0},\n",
    "                                 'eligible_almost_home_match': {'t': 1, 'f': 0}})\n",
    "\n",
    "    projects = projReplaceNan(projects)\n",
    "\n",
    "    # Convert date column to columns Year, Month and Day\n",
    "    projects['year_posted'] = pd.DatetimeIndex(projects['date_posted']).year\n",
    "    projects['month_posted'] = pd.DatetimeIndex(projects['date_posted']).month\n",
    "    projects['day_posted'] = pd.DatetimeIndex(projects['date_posted']).day\n",
    "\n",
    "    # Delete date_posted column\n",
    "    del projects['date_posted']\n",
    "    del projects['school_district']\n",
    "    del projects['school_county']\n",
    "    \n",
    "    return projects\n"
   ]
  },
  {
   "cell_type": "code",
   "execution_count": 15,
   "metadata": {},
   "outputs": [],
   "source": [
    "newProjects = cleanProjectsDataset(projects)"
   ]
  },
  {
   "cell_type": "code",
   "execution_count": 16,
   "metadata": {
    "scrolled": false
   },
   "outputs": [
    {
     "data": {
      "text/plain": [
       "projectid                                  object\n",
       "teacher_acctid                             object\n",
       "schoolid                                   object\n",
       "school_ncesid                             float64\n",
       "school_latitude                           float64\n",
       "school_longitude                          float64\n",
       "school_city                                object\n",
       "school_state                               object\n",
       "school_zip                                float64\n",
       "school_metro                               object\n",
       "school_charter                              int64\n",
       "school_magnet                               int64\n",
       "school_year_round                           int64\n",
       "school_nlns                                 int64\n",
       "school_kipp                                 int64\n",
       "school_charter_ready_promise                int64\n",
       "teacher_prefix                             object\n",
       "teacher_teach_for_america                   int64\n",
       "teacher_ny_teaching_fellow                  int64\n",
       "primary_focus_subject                      object\n",
       "primary_focus_area                         object\n",
       "secondary_focus_subject                    object\n",
       "secondary_focus_area                       object\n",
       "resource_type                              object\n",
       "poverty_level                              object\n",
       "grade_level                                object\n",
       "fulfillment_labor_materials               float64\n",
       "total_price_excluding_optional_support    float64\n",
       "total_price_including_optional_support    float64\n",
       "students_reached                          float64\n",
       "eligible_double_your_impact_match           int64\n",
       "eligible_almost_home_match                  int64\n",
       "year_posted                                 int64\n",
       "month_posted                                int64\n",
       "day_posted                                  int64\n",
       "dtype: object"
      ]
     },
     "execution_count": 16,
     "metadata": {},
     "output_type": "execute_result"
    }
   ],
   "source": [
    "newProjects.dtypes"
   ]
  },
  {
   "cell_type": "code",
   "execution_count": 17,
   "metadata": {},
   "outputs": [
    {
     "data": {
      "text/html": [
       "<div>\n",
       "<style scoped>\n",
       "    .dataframe tbody tr th:only-of-type {\n",
       "        vertical-align: middle;\n",
       "    }\n",
       "\n",
       "    .dataframe tbody tr th {\n",
       "        vertical-align: top;\n",
       "    }\n",
       "\n",
       "    .dataframe thead th {\n",
       "        text-align: right;\n",
       "    }\n",
       "</style>\n",
       "<table border=\"1\" class=\"dataframe\">\n",
       "  <thead>\n",
       "    <tr style=\"text-align: right;\">\n",
       "      <th></th>\n",
       "      <th>projectid</th>\n",
       "      <th>teacher_acctid</th>\n",
       "      <th>schoolid</th>\n",
       "      <th>school_ncesid</th>\n",
       "      <th>school_latitude</th>\n",
       "      <th>school_longitude</th>\n",
       "      <th>school_city</th>\n",
       "      <th>school_state</th>\n",
       "      <th>school_zip</th>\n",
       "      <th>school_metro</th>\n",
       "      <th>...</th>\n",
       "      <th>grade_level</th>\n",
       "      <th>fulfillment_labor_materials</th>\n",
       "      <th>total_price_excluding_optional_support</th>\n",
       "      <th>total_price_including_optional_support</th>\n",
       "      <th>students_reached</th>\n",
       "      <th>eligible_double_your_impact_match</th>\n",
       "      <th>eligible_almost_home_match</th>\n",
       "      <th>year_posted</th>\n",
       "      <th>month_posted</th>\n",
       "      <th>day_posted</th>\n",
       "    </tr>\n",
       "  </thead>\n",
       "  <tbody>\n",
       "    <tr>\n",
       "      <th>0</th>\n",
       "      <td>316ed8fb3b81402ff6ac8f721bb31192</td>\n",
       "      <td>42d43fa6f37314365d08692e08680973</td>\n",
       "      <td>c0e6ce89b244764085691a1b8e28cb81</td>\n",
       "      <td>6.362701e+10</td>\n",
       "      <td>36.576340</td>\n",
       "      <td>-119.608713</td>\n",
       "      <td>Selma</td>\n",
       "      <td>CA</td>\n",
       "      <td>93662.0</td>\n",
       "      <td>rural</td>\n",
       "      <td>...</td>\n",
       "      <td>Grades 6-8</td>\n",
       "      <td>30.0</td>\n",
       "      <td>555.81</td>\n",
       "      <td>653.89</td>\n",
       "      <td>32.0</td>\n",
       "      <td>0</td>\n",
       "      <td>0</td>\n",
       "      <td>2014</td>\n",
       "      <td>5</td>\n",
       "      <td>12</td>\n",
       "    </tr>\n",
       "    <tr>\n",
       "      <th>1</th>\n",
       "      <td>90de744e368a7e4883223ca49318ae30</td>\n",
       "      <td>864eb466462bf704bf7a16a585ef296a</td>\n",
       "      <td>d711e47810900c96f26a5d0be30c446d</td>\n",
       "      <td>4.837020e+11</td>\n",
       "      <td>32.911179</td>\n",
       "      <td>-96.723640</td>\n",
       "      <td>Dallas</td>\n",
       "      <td>TX</td>\n",
       "      <td>75243.0</td>\n",
       "      <td>urban</td>\n",
       "      <td>...</td>\n",
       "      <td>Grades PreK-2</td>\n",
       "      <td>30.0</td>\n",
       "      <td>296.47</td>\n",
       "      <td>348.79</td>\n",
       "      <td>22.0</td>\n",
       "      <td>0</td>\n",
       "      <td>0</td>\n",
       "      <td>2014</td>\n",
       "      <td>5</td>\n",
       "      <td>12</td>\n",
       "    </tr>\n",
       "    <tr>\n",
       "      <th>2</th>\n",
       "      <td>32943bb1063267de6ed19fc0ceb4b9a7</td>\n",
       "      <td>37f85135259ece793213aca9d8765542</td>\n",
       "      <td>665c3613013ba0a66e3a2a26b89f1b68</td>\n",
       "      <td>4.103270e+11</td>\n",
       "      <td>45.166039</td>\n",
       "      <td>-122.414576</td>\n",
       "      <td>Colton</td>\n",
       "      <td>OR</td>\n",
       "      <td>97017.0</td>\n",
       "      <td>rural</td>\n",
       "      <td>...</td>\n",
       "      <td>Grades PreK-2</td>\n",
       "      <td>30.0</td>\n",
       "      <td>430.89</td>\n",
       "      <td>506.93</td>\n",
       "      <td>17.0</td>\n",
       "      <td>0</td>\n",
       "      <td>0</td>\n",
       "      <td>2014</td>\n",
       "      <td>5</td>\n",
       "      <td>11</td>\n",
       "    </tr>\n",
       "    <tr>\n",
       "      <th>3</th>\n",
       "      <td>bb18f409abda2f264d5acda8cab577a9</td>\n",
       "      <td>2133fc46f951f1e7d60645b0f9e48a6c</td>\n",
       "      <td>4f12c3fa0c1cce823c7ba1df57e90ccb</td>\n",
       "      <td>3.600153e+11</td>\n",
       "      <td>40.641727</td>\n",
       "      <td>-73.965655</td>\n",
       "      <td>Brooklyn</td>\n",
       "      <td>NY</td>\n",
       "      <td>11226.0</td>\n",
       "      <td>urban</td>\n",
       "      <td>...</td>\n",
       "      <td>Grades 3-5</td>\n",
       "      <td>30.0</td>\n",
       "      <td>576.07</td>\n",
       "      <td>677.73</td>\n",
       "      <td>12.0</td>\n",
       "      <td>0</td>\n",
       "      <td>0</td>\n",
       "      <td>2014</td>\n",
       "      <td>5</td>\n",
       "      <td>11</td>\n",
       "    </tr>\n",
       "    <tr>\n",
       "      <th>4</th>\n",
       "      <td>24761b686e18e5eace634607acbcc19f</td>\n",
       "      <td>867ff478a63f5457eaf41049536c47cd</td>\n",
       "      <td>10179fd362d7b8cf0e89baa1ca3025bb</td>\n",
       "      <td>6.227100e+10</td>\n",
       "      <td>34.043939</td>\n",
       "      <td>-118.288371</td>\n",
       "      <td>Los Angeles</td>\n",
       "      <td>CA</td>\n",
       "      <td>90006.0</td>\n",
       "      <td>urban</td>\n",
       "      <td>...</td>\n",
       "      <td>Grades PreK-2</td>\n",
       "      <td>30.0</td>\n",
       "      <td>408.40</td>\n",
       "      <td>480.47</td>\n",
       "      <td>24.0</td>\n",
       "      <td>0</td>\n",
       "      <td>0</td>\n",
       "      <td>2014</td>\n",
       "      <td>5</td>\n",
       "      <td>11</td>\n",
       "    </tr>\n",
       "  </tbody>\n",
       "</table>\n",
       "<p>5 rows × 35 columns</p>\n",
       "</div>"
      ],
      "text/plain": [
       "                          projectid                    teacher_acctid  \\\n",
       "0  316ed8fb3b81402ff6ac8f721bb31192  42d43fa6f37314365d08692e08680973   \n",
       "1  90de744e368a7e4883223ca49318ae30  864eb466462bf704bf7a16a585ef296a   \n",
       "2  32943bb1063267de6ed19fc0ceb4b9a7  37f85135259ece793213aca9d8765542   \n",
       "3  bb18f409abda2f264d5acda8cab577a9  2133fc46f951f1e7d60645b0f9e48a6c   \n",
       "4  24761b686e18e5eace634607acbcc19f  867ff478a63f5457eaf41049536c47cd   \n",
       "\n",
       "                           schoolid  school_ncesid  school_latitude  \\\n",
       "0  c0e6ce89b244764085691a1b8e28cb81   6.362701e+10        36.576340   \n",
       "1  d711e47810900c96f26a5d0be30c446d   4.837020e+11        32.911179   \n",
       "2  665c3613013ba0a66e3a2a26b89f1b68   4.103270e+11        45.166039   \n",
       "3  4f12c3fa0c1cce823c7ba1df57e90ccb   3.600153e+11        40.641727   \n",
       "4  10179fd362d7b8cf0e89baa1ca3025bb   6.227100e+10        34.043939   \n",
       "\n",
       "   school_longitude  school_city school_state  school_zip school_metro  ...  \\\n",
       "0       -119.608713        Selma           CA     93662.0        rural  ...   \n",
       "1        -96.723640       Dallas           TX     75243.0        urban  ...   \n",
       "2       -122.414576       Colton           OR     97017.0        rural  ...   \n",
       "3        -73.965655     Brooklyn           NY     11226.0        urban  ...   \n",
       "4       -118.288371  Los Angeles           CA     90006.0        urban  ...   \n",
       "\n",
       "     grade_level  fulfillment_labor_materials  \\\n",
       "0     Grades 6-8                         30.0   \n",
       "1  Grades PreK-2                         30.0   \n",
       "2  Grades PreK-2                         30.0   \n",
       "3     Grades 3-5                         30.0   \n",
       "4  Grades PreK-2                         30.0   \n",
       "\n",
       "   total_price_excluding_optional_support  \\\n",
       "0                                  555.81   \n",
       "1                                  296.47   \n",
       "2                                  430.89   \n",
       "3                                  576.07   \n",
       "4                                  408.40   \n",
       "\n",
       "   total_price_including_optional_support  students_reached  \\\n",
       "0                                  653.89              32.0   \n",
       "1                                  348.79              22.0   \n",
       "2                                  506.93              17.0   \n",
       "3                                  677.73              12.0   \n",
       "4                                  480.47              24.0   \n",
       "\n",
       "   eligible_double_your_impact_match eligible_almost_home_match  year_posted  \\\n",
       "0                                  0                          0         2014   \n",
       "1                                  0                          0         2014   \n",
       "2                                  0                          0         2014   \n",
       "3                                  0                          0         2014   \n",
       "4                                  0                          0         2014   \n",
       "\n",
       "   month_posted day_posted  \n",
       "0             5         12  \n",
       "1             5         12  \n",
       "2             5         11  \n",
       "3             5         11  \n",
       "4             5         11  \n",
       "\n",
       "[5 rows x 35 columns]"
      ]
     },
     "execution_count": 17,
     "metadata": {},
     "output_type": "execute_result"
    }
   ],
   "source": [
    "newProjects.head()"
   ]
  },
  {
   "cell_type": "code",
   "execution_count": 18,
   "metadata": {},
   "outputs": [],
   "source": [
    "# Save dataset\n",
    "newProjects.to_pickle('clean_projects.csv')"
   ]
  },
  {
   "cell_type": "markdown",
   "metadata": {},
   "source": [
    "## Resources.csv"
   ]
  },
  {
   "cell_type": "code",
   "execution_count": 19,
   "metadata": {},
   "outputs": [
    {
     "data": {
      "text/html": [
       "<div>\n",
       "<style scoped>\n",
       "    .dataframe tbody tr th:only-of-type {\n",
       "        vertical-align: middle;\n",
       "    }\n",
       "\n",
       "    .dataframe tbody tr th {\n",
       "        vertical-align: top;\n",
       "    }\n",
       "\n",
       "    .dataframe thead th {\n",
       "        text-align: right;\n",
       "    }\n",
       "</style>\n",
       "<table border=\"1\" class=\"dataframe\">\n",
       "  <thead>\n",
       "    <tr style=\"text-align: right;\">\n",
       "      <th></th>\n",
       "      <th>resourceid</th>\n",
       "      <th>projectid</th>\n",
       "      <th>vendorid</th>\n",
       "      <th>vendor_name</th>\n",
       "      <th>project_resource_type</th>\n",
       "      <th>item_name</th>\n",
       "      <th>item_number</th>\n",
       "      <th>item_unit_price</th>\n",
       "      <th>item_quantity</th>\n",
       "    </tr>\n",
       "  </thead>\n",
       "  <tbody>\n",
       "    <tr>\n",
       "      <th>0</th>\n",
       "      <td>8a1c1c45bc30d065061912fd9114fcf3</td>\n",
       "      <td>ffffc4f85b60efc5b52347df489d0238</td>\n",
       "      <td>430.0</td>\n",
       "      <td>Woodwind and Brasswind</td>\n",
       "      <td>Technology</td>\n",
       "      <td>iPod nano 4th Gen 8GB (Black)</td>\n",
       "      <td>249995.001</td>\n",
       "      <td>149.0</td>\n",
       "      <td>4.0</td>\n",
       "    </tr>\n",
       "  </tbody>\n",
       "</table>\n",
       "</div>"
      ],
      "text/plain": [
       "                         resourceid                         projectid  \\\n",
       "0  8a1c1c45bc30d065061912fd9114fcf3  ffffc4f85b60efc5b52347df489d0238   \n",
       "\n",
       "   vendorid             vendor_name project_resource_type  \\\n",
       "0     430.0  Woodwind and Brasswind            Technology   \n",
       "\n",
       "                       item_name item_number  item_unit_price  item_quantity  \n",
       "0  iPod nano 4th Gen 8GB (Black)  249995.001            149.0            4.0  "
      ]
     },
     "execution_count": 19,
     "metadata": {},
     "output_type": "execute_result"
    }
   ],
   "source": [
    "# load dataset\n",
    "resources = pd.read_csv('resources.csv')\n",
    "resources.head(n=1)\n"
   ]
  },
  {
   "cell_type": "code",
   "execution_count": 20,
   "metadata": {},
   "outputs": [
    {
     "data": {
      "text/plain": [
       "(3667217, 9)"
      ]
     },
     "execution_count": 20,
     "metadata": {},
     "output_type": "execute_result"
    }
   ],
   "source": [
    "resources.shape"
   ]
  },
  {
   "cell_type": "code",
   "execution_count": 22,
   "metadata": {},
   "outputs": [],
   "source": [
    "# Extract only the project after 2009\n",
    "projects = pd.read_csv('projects.csv')\n",
    "\n",
    "projects['year'] = pd.DatetimeIndex(projects['date_posted']).year\n",
    "after2010 = projects[projects['year'] > 2009]\n",
    "\n",
    "resources = pd.merge(resources, after2010['projectid'], on='projectid')\n"
   ]
  },
  {
   "cell_type": "code",
   "execution_count": 23,
   "metadata": {},
   "outputs": [
    {
     "data": {
      "text/plain": [
       "(2749806, 9)"
      ]
     },
     "execution_count": 23,
     "metadata": {},
     "output_type": "execute_result"
    }
   ],
   "source": [
    "resources.shape"
   ]
  },
  {
   "cell_type": "code",
   "execution_count": 24,
   "metadata": {},
   "outputs": [],
   "source": [
    "def cleanResourcesDataset(resources, encoders_test=None):\n",
    "    # Get the amount spent by each project\n",
    "\n",
    "    # multiply column item_unit_price by item_quantity -> item_total_quantity\n",
    "    resources['item_total_quantity'] = resources['item_unit_price'] * resources['item_quantity']\n",
    "\n",
    "    # group resources[['projectid', item_total_quantity]] by projectid and sum values of item_total_quantity\n",
    "    groupedResources =resources.groupby(['projectid']).sum()\n",
    "\n",
    "    # Get main vendor for each projectid\n",
    "\n",
    "    # Count num of vendor ocurrences for each projectid, get the max count\n",
    "    resources['vendor_name'] = resources['vendor_name'].replace(np.nan, '', regex=True)\n",
    "\n",
    "    s = resources.groupby(['projectid','vendor_name']).size()\n",
    "    majorVendor = s.loc[s.groupby(level=0).idxmax()].reset_index().drop(0,axis=1)\n",
    "\n",
    "    # Delete columns item_name, item_number, item_unit_price, item_quantity, vendorid, resourceid, project_resource_type\n",
    "    newResources = pd.merge(groupedResources[['item_quantity', 'item_total_quantity']], majorVendor, on='projectid')\n",
    "    \n",
    "    return newResources\n",
    "    "
   ]
  },
  {
   "cell_type": "code",
   "execution_count": 25,
   "metadata": {},
   "outputs": [],
   "source": [
    "newResources = cleanResourcesDataset(resources)"
   ]
  },
  {
   "cell_type": "code",
   "execution_count": 26,
   "metadata": {
    "scrolled": true
   },
   "outputs": [
    {
     "data": {
      "text/html": [
       "<div>\n",
       "<style scoped>\n",
       "    .dataframe tbody tr th:only-of-type {\n",
       "        vertical-align: middle;\n",
       "    }\n",
       "\n",
       "    .dataframe tbody tr th {\n",
       "        vertical-align: top;\n",
       "    }\n",
       "\n",
       "    .dataframe thead th {\n",
       "        text-align: right;\n",
       "    }\n",
       "</style>\n",
       "<table border=\"1\" class=\"dataframe\">\n",
       "  <thead>\n",
       "    <tr style=\"text-align: right;\">\n",
       "      <th></th>\n",
       "      <th>projectid</th>\n",
       "      <th>item_quantity</th>\n",
       "      <th>item_total_quantity</th>\n",
       "      <th>vendor_name</th>\n",
       "    </tr>\n",
       "  </thead>\n",
       "  <tbody>\n",
       "    <tr>\n",
       "      <th>0</th>\n",
       "      <td>00001ccc0e81598c4bd86bacb94d7acb</td>\n",
       "      <td>55.0</td>\n",
       "      <td>1225.44</td>\n",
       "      <td>Lakeshore Learning Materials</td>\n",
       "    </tr>\n",
       "    <tr>\n",
       "      <th>1</th>\n",
       "      <td>00002bff514104264a6b798356fdd893</td>\n",
       "      <td>7.0</td>\n",
       "      <td>399.74</td>\n",
       "      <td>Lakeshore Learning Materials</td>\n",
       "    </tr>\n",
       "    <tr>\n",
       "      <th>2</th>\n",
       "      <td>00002d691c05c51a5fdfbb2baef0ba25</td>\n",
       "      <td>122.0</td>\n",
       "      <td>774.80</td>\n",
       "      <td>AKJ Books</td>\n",
       "    </tr>\n",
       "  </tbody>\n",
       "</table>\n",
       "</div>"
      ],
      "text/plain": [
       "                          projectid  item_quantity  item_total_quantity  \\\n",
       "0  00001ccc0e81598c4bd86bacb94d7acb           55.0              1225.44   \n",
       "1  00002bff514104264a6b798356fdd893            7.0               399.74   \n",
       "2  00002d691c05c51a5fdfbb2baef0ba25          122.0               774.80   \n",
       "\n",
       "                    vendor_name  \n",
       "0  Lakeshore Learning Materials  \n",
       "1  Lakeshore Learning Materials  \n",
       "2                     AKJ Books  "
      ]
     },
     "execution_count": 26,
     "metadata": {},
     "output_type": "execute_result"
    }
   ],
   "source": [
    "newResources.head(n=3)"
   ]
  },
  {
   "cell_type": "code",
   "execution_count": 27,
   "metadata": {},
   "outputs": [
    {
     "data": {
      "text/plain": [
       "projectid               object\n",
       "item_quantity          float64\n",
       "item_total_quantity    float64\n",
       "vendor_name             object\n",
       "dtype: object"
      ]
     },
     "execution_count": 27,
     "metadata": {},
     "output_type": "execute_result"
    }
   ],
   "source": [
    "newResources.dtypes"
   ]
  },
  {
   "cell_type": "code",
   "execution_count": 28,
   "metadata": {
    "scrolled": true
   },
   "outputs": [
    {
     "data": {
      "text/plain": [
       "(484371, 4)"
      ]
     },
     "execution_count": 28,
     "metadata": {},
     "output_type": "execute_result"
    }
   ],
   "source": [
    "newResources.shape"
   ]
  },
  {
   "cell_type": "code",
   "execution_count": 29,
   "metadata": {},
   "outputs": [],
   "source": [
    "# Save clean dataset \n",
    "newResources.to_pickle('clean_resources.csv')"
   ]
  },
  {
   "cell_type": "markdown",
   "metadata": {},
   "source": [
    "## Essays.csv\n",
    "\n"
   ]
  },
  {
   "cell_type": "code",
   "execution_count": 30,
   "metadata": {},
   "outputs": [
    {
     "data": {
      "text/html": [
       "<div>\n",
       "<style scoped>\n",
       "    .dataframe tbody tr th:only-of-type {\n",
       "        vertical-align: middle;\n",
       "    }\n",
       "\n",
       "    .dataframe tbody tr th {\n",
       "        vertical-align: top;\n",
       "    }\n",
       "\n",
       "    .dataframe thead th {\n",
       "        text-align: right;\n",
       "    }\n",
       "</style>\n",
       "<table border=\"1\" class=\"dataframe\">\n",
       "  <thead>\n",
       "    <tr style=\"text-align: right;\">\n",
       "      <th></th>\n",
       "      <th>projectid</th>\n",
       "      <th>teacher_acctid</th>\n",
       "      <th>title</th>\n",
       "      <th>short_description</th>\n",
       "      <th>need_statement</th>\n",
       "      <th>essay</th>\n",
       "    </tr>\n",
       "  </thead>\n",
       "  <tbody>\n",
       "    <tr>\n",
       "      <th>0</th>\n",
       "      <td>ffffc4f85b60efc5b52347df489d0238</td>\n",
       "      <td>c24011b20fc161ed02248e85beb59a90</td>\n",
       "      <td>iMath</td>\n",
       "      <td>It is imperative that teachers bring technolog...</td>\n",
       "      <td>My students need four iPods.</td>\n",
       "      <td>I am a fourth year fifth grade math teacher. T...</td>\n",
       "    </tr>\n",
       "  </tbody>\n",
       "</table>\n",
       "</div>"
      ],
      "text/plain": [
       "                          projectid                    teacher_acctid  title  \\\n",
       "0  ffffc4f85b60efc5b52347df489d0238  c24011b20fc161ed02248e85beb59a90  iMath   \n",
       "\n",
       "                                   short_description  \\\n",
       "0  It is imperative that teachers bring technolog...   \n",
       "\n",
       "                 need_statement  \\\n",
       "0  My students need four iPods.   \n",
       "\n",
       "                                               essay  \n",
       "0  I am a fourth year fifth grade math teacher. T...  "
      ]
     },
     "execution_count": 30,
     "metadata": {},
     "output_type": "execute_result"
    }
   ],
   "source": [
    "# Load dataset essays\n",
    "essays = pd.read_csv('essays.csv')\n",
    "essays.head(n=1)"
   ]
  },
  {
   "cell_type": "code",
   "execution_count": 31,
   "metadata": {},
   "outputs": [
    {
     "data": {
      "text/plain": [
       "(664098, 6)"
      ]
     },
     "execution_count": 31,
     "metadata": {},
     "output_type": "execute_result"
    }
   ],
   "source": [
    "essays.shape"
   ]
  },
  {
   "cell_type": "code",
   "execution_count": 32,
   "metadata": {},
   "outputs": [
    {
     "data": {
      "text/plain": [
       "(484371, 6)"
      ]
     },
     "execution_count": 32,
     "metadata": {},
     "output_type": "execute_result"
    }
   ],
   "source": [
    "# Extract only the project after 2009\n",
    "projects = pd.read_csv('projects.csv')\n",
    "\n",
    "projects['year'] = pd.DatetimeIndex(projects['date_posted']).year\n",
    "after2010 = projects[projects['year'] > 2009]\n",
    "\n",
    "essays = pd.merge(essays, after2010['projectid'], on='projectid')\n",
    "\n",
    "essays.shape"
   ]
  },
  {
   "cell_type": "code",
   "execution_count": 34,
   "metadata": {},
   "outputs": [],
   "source": [
    "def cleanEssayDataset(essays):\n",
    "\n",
    "    # Replace the NaN by empty strings\n",
    "    essays = essays.replace(np.nan, '', regex=True)\n",
    "\n",
    "    # Load pretrained MLP model\n",
    "    mlp_model = load_model('/Users/anacosta/Desktop/KaggleComp_DonorsChoose/' + 'saved_models/mlp.h5',\n",
    "                           custom_objects={'custom_loss': custom_loss})\n",
    "\n",
    "    fast = load_fastext()\n",
    "    \n",
    "    # Preprocess the column Title\n",
    "    # tokenize the text\n",
    "    tokenize_text(essays, 'title')\n",
    "\n",
    "    # clean, lemmatize, get embeddings and predict sentiment\n",
    "    predict_sentiment(essays, 'title', mlp_model, fast)\n",
    "\n",
    "    # fill NaN Rows with [0,0,0]\n",
    "    essays.loc[essays['title'].isnull(), ['title']] = essays.loc[essays['title'].isnull(), 'title'].apply(\n",
    "        lambda x: list([0, 0, 0]))\n",
    "\n",
    "    # separate column into 3\n",
    "    aux = pd.DataFrame(essays['title'].to_list(), columns=['title_v', 'title_a', 'title_d'])\n",
    "\n",
    "    # Append title_v and title_a to dataset\n",
    "    newEssays = pd.merge(aux[['title_v', 'title_a']], essays, left_index=True, right_index=True)\n",
    "\n",
    "    # Remove Title\n",
    "    del newEssays['title']\n",
    "    print('- Title column cleaned')\n",
    "\n",
    "    \n",
    "    # Preprocess the column short_description\n",
    "    newEssays = newEssays.replace(np.nan, '', regex=True)\n",
    "    # Preprocess the column short_description\n",
    "\n",
    "    # tokenize the text\n",
    "    tokenize_text(newEssays, 'short_description')\n",
    "\n",
    "    # Get column numb_words_short_description\n",
    "    # count the number of words\n",
    "    newEssays['numb_words_short_description'] = newEssays['short_description'].apply(lambda x: len(x))\n",
    "\n",
    "    clean_stopwords(newEssays, 'short_description')\n",
    "    lematize(newEssays, 'short_description')\n",
    "\n",
    "    # Count number of words\n",
    "    counter = Counter()\n",
    "    _ = newEssays['short_description'].apply(lambda x: counter.update(x))\n",
    "    \n",
    "    \n",
    "    # Get column most_common_short_description\n",
    "    most_common50 = counter.most_common(100)\n",
    "\n",
    "    most_common_short_description = newEssays['short_description'].apply(\n",
    "        lambda x: pd.Series(x).isin(most_common50).value_counts())\n",
    "\n",
    "    newEssays['most_common_short_description'] = newEssays[\n",
    "                                                     'numb_words_short_description'] - most_common_short_description.squeeze()\n",
    "    print('- Short_description column cleaned')\n",
    "    \n",
    "    newEssays = newEssays.replace(np.nan, '', regex=True)\n",
    "\n",
    "    # Preprocess the column essays\n",
    "    # tokenize the text\n",
    "    tokenize_text(newEssays, 'essay')\n",
    "\n",
    "    # Get column numb_words_essay\n",
    "    # count the number of words\n",
    "    newEssays['numb_words_essay'] = newEssays['essay'].apply(lambda x: len(x))\n",
    "\n",
    "    # Remove columns\n",
    "    del newEssays['short_description']\n",
    "    del newEssays['need_statement']\n",
    "    del newEssays['essay']\n",
    "    del newEssays['teacher_acctid']\n",
    "    \n",
    "    newEssays['most_common_short_description'] = newEssays['most_common_short_description'].replace('', 0, regex=True)\n",
    "\n",
    "\n",
    "    return newEssays"
   ]
  },
  {
   "cell_type": "code",
   "execution_count": 35,
   "metadata": {},
   "outputs": [
    {
     "name": "stdout",
     "output_type": "stream",
     "text": [
      "WARNING:tensorflow:From /opt/anaconda3/lib/python3.7/site-packages/tensorflow/python/ops/resource_variable_ops.py:435: colocate_with (from tensorflow.python.framework.ops) is deprecated and will be removed in a future version.\n",
      "Instructions for updating:\n",
      "Colocations handled automatically by placer.\n",
      "WARNING:tensorflow:From /opt/anaconda3/lib/python3.7/site-packages/tensorflow/python/ops/math_ops.py:3066: to_int32 (from tensorflow.python.ops.math_ops) is deprecated and will be removed in a future version.\n",
      "Instructions for updating:\n",
      "Use tf.cast instead.\n"
     ]
    },
    {
     "name": "stderr",
     "output_type": "stream",
     "text": [
      "Warning : `load_model` does not return WordVectorModel or SupervisedModel any more, but a `FastText` object which is very similar.\n"
     ]
    },
    {
     "name": "stdout",
     "output_type": "stream",
     "text": [
      "- Title column cleaned\n",
      "- Short_description column cleaned\n"
     ]
    }
   ],
   "source": [
    "newEssays = cleanEssayDataset(essays)"
   ]
  },
  {
   "cell_type": "code",
   "execution_count": 36,
   "metadata": {},
   "outputs": [
    {
     "data": {
      "text/plain": [
       "title_v                          float64\n",
       "title_a                          float64\n",
       "projectid                         object\n",
       "numb_words_short_description       int64\n",
       "most_common_short_description    float64\n",
       "numb_words_essay                   int64\n",
       "dtype: object"
      ]
     },
     "execution_count": 36,
     "metadata": {},
     "output_type": "execute_result"
    }
   ],
   "source": [
    "newEssays.dtypes"
   ]
  },
  {
   "cell_type": "code",
   "execution_count": 37,
   "metadata": {},
   "outputs": [],
   "source": [
    "# Saving clean essays\n",
    "newEssays.to_pickle('clean_essays.csv')\n"
   ]
  },
  {
   "cell_type": "markdown",
   "metadata": {},
   "source": [
    "## Merge all datasets"
   ]
  },
  {
   "cell_type": "code",
   "execution_count": 38,
   "metadata": {},
   "outputs": [],
   "source": [
    "clean_Essays = pd.read_pickle('./clean_essays.csv')\n",
    "\n",
    "clean_Projects = pd.read_pickle('./clean_projects.csv')\n",
    "\n",
    "clean_Resources = pd.read_pickle('./clean_resources.csv')\n"
   ]
  },
  {
   "cell_type": "code",
   "execution_count": 39,
   "metadata": {},
   "outputs": [
    {
     "data": {
      "text/plain": [
       "(484371, 6)"
      ]
     },
     "execution_count": 39,
     "metadata": {},
     "output_type": "execute_result"
    }
   ],
   "source": [
    "clean_Essays.shape\n"
   ]
  },
  {
   "cell_type": "code",
   "execution_count": 40,
   "metadata": {
    "scrolled": true
   },
   "outputs": [
    {
     "data": {
      "text/plain": [
       "(484371, 35)"
      ]
     },
     "execution_count": 40,
     "metadata": {},
     "output_type": "execute_result"
    }
   ],
   "source": [
    "clean_Projects.shape\n"
   ]
  },
  {
   "cell_type": "code",
   "execution_count": 41,
   "metadata": {},
   "outputs": [
    {
     "data": {
      "text/plain": [
       "(484371, 4)"
      ]
     },
     "execution_count": 41,
     "metadata": {},
     "output_type": "execute_result"
    }
   ],
   "source": [
    "clean_Resources.shape"
   ]
  },
  {
   "cell_type": "code",
   "execution_count": 42,
   "metadata": {},
   "outputs": [],
   "source": [
    "mergedX = pd.merge(clean_Essays, clean_Projects, on='projectid')\n"
   ]
  },
  {
   "cell_type": "code",
   "execution_count": 43,
   "metadata": {},
   "outputs": [],
   "source": [
    "mergedX = pd.merge(mergedX, clean_Resources, on='projectid')\n"
   ]
  },
  {
   "cell_type": "code",
   "execution_count": 44,
   "metadata": {},
   "outputs": [
    {
     "data": {
      "text/plain": [
       "(484371, 43)"
      ]
     },
     "execution_count": 44,
     "metadata": {},
     "output_type": "execute_result"
    }
   ],
   "source": [
    "mergedX.shape"
   ]
  },
  {
   "cell_type": "code",
   "execution_count": 45,
   "metadata": {},
   "outputs": [
    {
     "data": {
      "text/plain": [
       "Index(['title_v', 'title_a', 'projectid', 'numb_words_short_description',\n",
       "       'most_common_short_description', 'numb_words_essay', 'teacher_acctid',\n",
       "       'schoolid', 'school_ncesid', 'school_latitude', 'school_longitude',\n",
       "       'school_city', 'school_state', 'school_zip', 'school_metro',\n",
       "       'school_charter', 'school_magnet', 'school_year_round', 'school_nlns',\n",
       "       'school_kipp', 'school_charter_ready_promise', 'teacher_prefix',\n",
       "       'teacher_teach_for_america', 'teacher_ny_teaching_fellow',\n",
       "       'primary_focus_subject', 'primary_focus_area',\n",
       "       'secondary_focus_subject', 'secondary_focus_area', 'resource_type',\n",
       "       'poverty_level', 'grade_level', 'fulfillment_labor_materials',\n",
       "       'total_price_excluding_optional_support',\n",
       "       'total_price_including_optional_support', 'students_reached',\n",
       "       'eligible_double_your_impact_match', 'eligible_almost_home_match',\n",
       "       'year_posted', 'month_posted', 'day_posted', 'item_quantity',\n",
       "       'item_total_quantity', 'vendor_name'],\n",
       "      dtype='object')"
      ]
     },
     "execution_count": 45,
     "metadata": {},
     "output_type": "execute_result"
    }
   ],
   "source": [
    "mergedX.columns"
   ]
  },
  {
   "cell_type": "markdown",
   "metadata": {},
   "source": [
    "### Saving Train Dataset"
   ]
  },
  {
   "cell_type": "code",
   "execution_count": 48,
   "metadata": {},
   "outputs": [
    {
     "data": {
      "text/plain": [
       "(439599, 43)"
      ]
     },
     "execution_count": 48,
     "metadata": {},
     "output_type": "execute_result"
    }
   ],
   "source": [
    "train_mergedX = mergedX[mergedX['year_posted'] < 2014]\n",
    "\n",
    "train_mergedX.shape\n"
   ]
  },
  {
   "cell_type": "code",
   "execution_count": 49,
   "metadata": {},
   "outputs": [],
   "source": [
    "# Saving train dataset\n",
    "train_mergedX.to_pickle('train_x.csv')\n"
   ]
  },
  {
   "cell_type": "markdown",
   "metadata": {},
   "source": [
    "### Saving Teste Dataset"
   ]
  },
  {
   "cell_type": "code",
   "execution_count": 50,
   "metadata": {},
   "outputs": [
    {
     "data": {
      "text/plain": [
       "(44772, 2)"
      ]
     },
     "execution_count": 50,
     "metadata": {},
     "output_type": "execute_result"
    }
   ],
   "source": [
    "idProjTest = pd.read_csv('./sampleSubmission.csv')\n",
    "idProjTest.shape\n"
   ]
  },
  {
   "cell_type": "code",
   "execution_count": 51,
   "metadata": {},
   "outputs": [
    {
     "data": {
      "text/plain": [
       "(44772, 43)"
      ]
     },
     "execution_count": 51,
     "metadata": {},
     "output_type": "execute_result"
    }
   ],
   "source": [
    "test_mergedX = pd.merge(mergedX, idProjTest['projectid'], on='projectid')\n",
    "test_mergedX.shape\n"
   ]
  },
  {
   "cell_type": "code",
   "execution_count": 52,
   "metadata": {},
   "outputs": [],
   "source": [
    "# Saving train dataset\n",
    "test_mergedX.to_pickle('test_x.csv')\n",
    "\n"
   ]
  },
  {
   "cell_type": "code",
   "execution_count": 57,
   "metadata": {},
   "outputs": [],
   "source": [
    "idProjTest = pd.read_pickle('test_x.csv')"
   ]
  },
  {
   "cell_type": "code",
   "execution_count": 59,
   "metadata": {},
   "outputs": [
    {
     "data": {
      "text/plain": [
       "title_v                                   float64\n",
       "title_a                                   float64\n",
       "projectid                                  object\n",
       "numb_words_short_description                int64\n",
       "most_common_short_description             float64\n",
       "numb_words_essay                            int64\n",
       "teacher_acctid                             object\n",
       "schoolid                                   object\n",
       "school_ncesid                             float64\n",
       "school_latitude                           float64\n",
       "school_longitude                          float64\n",
       "school_city                                object\n",
       "school_state                               object\n",
       "school_zip                                float64\n",
       "school_metro                               object\n",
       "school_charter                              int64\n",
       "school_magnet                               int64\n",
       "school_year_round                           int64\n",
       "school_nlns                                 int64\n",
       "school_kipp                                 int64\n",
       "school_charter_ready_promise                int64\n",
       "teacher_prefix                             object\n",
       "teacher_teach_for_america                   int64\n",
       "teacher_ny_teaching_fellow                  int64\n",
       "primary_focus_subject                      object\n",
       "primary_focus_area                         object\n",
       "secondary_focus_subject                    object\n",
       "secondary_focus_area                       object\n",
       "resource_type                              object\n",
       "poverty_level                              object\n",
       "grade_level                                object\n",
       "fulfillment_labor_materials               float64\n",
       "total_price_excluding_optional_support    float64\n",
       "total_price_including_optional_support    float64\n",
       "students_reached                          float64\n",
       "eligible_double_your_impact_match           int64\n",
       "eligible_almost_home_match                  int64\n",
       "year_posted                                 int64\n",
       "month_posted                                int64\n",
       "day_posted                                  int64\n",
       "item_quantity                             float64\n",
       "item_total_quantity                       float64\n",
       "vendor_name                                object\n",
       "dtype: object"
      ]
     },
     "execution_count": 59,
     "metadata": {},
     "output_type": "execute_result"
    }
   ],
   "source": [
    "idProjTest.dtypes"
   ]
  },
  {
   "cell_type": "code",
   "execution_count": null,
   "metadata": {},
   "outputs": [],
   "source": []
  }
 ],
 "metadata": {
  "kernelspec": {
   "display_name": "Python 3",
   "language": "python",
   "name": "python3"
  },
  "language_info": {
   "codemirror_mode": {
    "name": "ipython",
    "version": 3
   },
   "file_extension": ".py",
   "mimetype": "text/x-python",
   "name": "python",
   "nbconvert_exporter": "python",
   "pygments_lexer": "ipython3",
   "version": "3.7.6"
  }
 },
 "nbformat": 4,
 "nbformat_minor": 4
}
