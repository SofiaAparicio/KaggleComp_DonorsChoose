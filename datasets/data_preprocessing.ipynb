{
 "cells": [
  {
   "cell_type": "markdown",
   "metadata": {},
   "source": [
    "# Data Preprocessing\n",
    "\n",
    "This notebook goal is to preprocess the data for the DonorsChoose.org Kaggle challenge. From the data exploration (EDA.ipynb) it was possible to understand what are the columns that need to be preprocessed and how they should be handled for the data to be eligible has an input to a machine learning model.\n",
    "\n",
    "I will do the preprocessing of the data dataset by dataset, in the end I will merge all the resultant datasets."
   ]
  },
  {
   "cell_type": "code",
   "execution_count": 81,
   "metadata": {},
   "outputs": [],
   "source": [
    "# import libraries\n",
    "import numpy as np\n",
    "import pandas as pd\n",
    "import matplotlib.pyplot as plt\n",
    "import seaborn as sns\n",
    "import plotly.express as px\n",
    "import plotly.graph_objects as go\n",
    "import plotly.figure_factory as ff\n",
    "from wordcloud import WordCloud\n",
    "from collections import Counter\n",
    "import operator\n",
    "import warnings\n",
    "warnings.filterwarnings('ignore')\n",
    "from datetime import datetime\n",
    "import time\n",
    "from sklearn.preprocessing import LabelEncoder\n",
    "from geopy.geocoders import Nominatim\n",
    "from collections import Counter\n",
    "\n",
    "from keras.models import Model, load_model\n",
    "from keras import regularizers, losses"
   ]
  },
  {
   "cell_type": "code",
   "execution_count": 82,
   "metadata": {},
   "outputs": [],
   "source": [
    "# to import from parallel directory\n",
    "import os,sys,inspect\n",
    "current_dir = os.path.dirname(os.path.abspath(inspect.getfile(inspect.currentframe())))\n",
    "parent_dir = os.path.dirname(current_dir)\n",
    "sys.path.insert(0, parent_dir)\n",
    "\n",
    "from src.aux_functions import *"
   ]
  },
  {
   "cell_type": "markdown",
   "metadata": {},
   "source": [
    "## Outcomes.csv\n",
    "\n",
    "In this dataset we will only use the column is_exciting. Since this dataset has only information from the training set, all the other parameters are useless for the model.\n",
    "\n",
    "Regarding the information on the EDA.ipynb, I will only use the data starting in 01-2010 until 11-2013."
   ]
  },
  {
   "cell_type": "code",
   "execution_count": 83,
   "metadata": {},
   "outputs": [],
   "source": [
    "# Load dataset outcomes \n",
    "outcomes = pd.read_csv('outcomes.csv')\n",
    "\n",
    "# Load dataset project to extract date when the project was posted\n",
    "projects = pd.read_csv('projects.csv')"
   ]
  },
  {
   "cell_type": "code",
   "execution_count": 84,
   "metadata": {},
   "outputs": [],
   "source": [
    "# Extract only the project after 2009\n",
    "\n",
    "merged = pd.merge(projects[['projectid','date_posted']], outcomes[['projectid','is_exciting']], on='projectid')\n",
    "merged['year'] = pd.DatetimeIndex(merged['date_posted']).year\n",
    "after2010 = merged[merged['year'] > 2009]\n"
   ]
  },
  {
   "cell_type": "code",
   "execution_count": 85,
   "metadata": {},
   "outputs": [
    {
     "data": {
      "text/html": [
       "<div>\n",
       "<style scoped>\n",
       "    .dataframe tbody tr th:only-of-type {\n",
       "        vertical-align: middle;\n",
       "    }\n",
       "\n",
       "    .dataframe tbody tr th {\n",
       "        vertical-align: top;\n",
       "    }\n",
       "\n",
       "    .dataframe thead th {\n",
       "        text-align: right;\n",
       "    }\n",
       "</style>\n",
       "<table border=\"1\" class=\"dataframe\">\n",
       "  <thead>\n",
       "    <tr style=\"text-align: right;\">\n",
       "      <th></th>\n",
       "      <th>projectid</th>\n",
       "      <th>date_posted</th>\n",
       "      <th>is_exciting</th>\n",
       "      <th>year</th>\n",
       "    </tr>\n",
       "  </thead>\n",
       "  <tbody>\n",
       "    <tr>\n",
       "      <th>0</th>\n",
       "      <td>62526d85d2a1818432d03d600969e99c</td>\n",
       "      <td>2013-12-31</td>\n",
       "      <td>f</td>\n",
       "      <td>2013</td>\n",
       "    </tr>\n",
       "  </tbody>\n",
       "</table>\n",
       "</div>"
      ],
      "text/plain": [
       "                          projectid date_posted is_exciting  year\n",
       "0  62526d85d2a1818432d03d600969e99c  2013-12-31           f  2013"
      ]
     },
     "execution_count": 85,
     "metadata": {},
     "output_type": "execute_result"
    }
   ],
   "source": [
    "after2010.head(n=1)"
   ]
  },
  {
   "cell_type": "code",
   "execution_count": 86,
   "metadata": {},
   "outputs": [],
   "source": [
    "train_y = after2010[['projectid', 'is_exciting', 'year']]"
   ]
  },
  {
   "cell_type": "code",
   "execution_count": 87,
   "metadata": {},
   "outputs": [],
   "source": [
    "train_y = train_y.replace({'is_exciting':{'t':1, 'f':0}})\n"
   ]
  },
  {
   "cell_type": "markdown",
   "metadata": {},
   "source": [
    "For now I will save the year because if I intend to use the data as validation, the validation year needs to be posterio than the training data."
   ]
  },
  {
   "cell_type": "code",
   "execution_count": 88,
   "metadata": {},
   "outputs": [],
   "source": [
    "# Save the data in file train_y.csv\n",
    "train_y.to_pickle('train_y.csv')"
   ]
  },
  {
   "cell_type": "code",
   "execution_count": 89,
   "metadata": {},
   "outputs": [],
   "source": [
    "# Save the projectid of the data that will be used as training data\n",
    "projectidTrain = after2010[['projectid']]"
   ]
  },
  {
   "cell_type": "markdown",
   "metadata": {},
   "source": [
    "## Projects.csv\n",
    "\n"
   ]
  },
  {
   "cell_type": "code",
   "execution_count": 90,
   "metadata": {},
   "outputs": [
    {
     "data": {
      "text/html": [
       "<div>\n",
       "<style scoped>\n",
       "    .dataframe tbody tr th:only-of-type {\n",
       "        vertical-align: middle;\n",
       "    }\n",
       "\n",
       "    .dataframe tbody tr th {\n",
       "        vertical-align: top;\n",
       "    }\n",
       "\n",
       "    .dataframe thead th {\n",
       "        text-align: right;\n",
       "    }\n",
       "</style>\n",
       "<table border=\"1\" class=\"dataframe\">\n",
       "  <thead>\n",
       "    <tr style=\"text-align: right;\">\n",
       "      <th></th>\n",
       "      <th>projectid</th>\n",
       "      <th>teacher_acctid</th>\n",
       "      <th>schoolid</th>\n",
       "      <th>school_ncesid</th>\n",
       "      <th>school_latitude</th>\n",
       "      <th>school_longitude</th>\n",
       "      <th>school_city</th>\n",
       "      <th>school_state</th>\n",
       "      <th>school_zip</th>\n",
       "      <th>school_metro</th>\n",
       "      <th>...</th>\n",
       "      <th>resource_type</th>\n",
       "      <th>poverty_level</th>\n",
       "      <th>grade_level</th>\n",
       "      <th>fulfillment_labor_materials</th>\n",
       "      <th>total_price_excluding_optional_support</th>\n",
       "      <th>total_price_including_optional_support</th>\n",
       "      <th>students_reached</th>\n",
       "      <th>eligible_double_your_impact_match</th>\n",
       "      <th>eligible_almost_home_match</th>\n",
       "      <th>date_posted</th>\n",
       "    </tr>\n",
       "  </thead>\n",
       "  <tbody>\n",
       "    <tr>\n",
       "      <th>0</th>\n",
       "      <td>316ed8fb3b81402ff6ac8f721bb31192</td>\n",
       "      <td>42d43fa6f37314365d08692e08680973</td>\n",
       "      <td>c0e6ce89b244764085691a1b8e28cb81</td>\n",
       "      <td>6.362701e+10</td>\n",
       "      <td>36.57634</td>\n",
       "      <td>-119.608713</td>\n",
       "      <td>Selma</td>\n",
       "      <td>CA</td>\n",
       "      <td>93662.0</td>\n",
       "      <td>NaN</td>\n",
       "      <td>...</td>\n",
       "      <td>Books</td>\n",
       "      <td>highest poverty</td>\n",
       "      <td>Grades 6-8</td>\n",
       "      <td>30.0</td>\n",
       "      <td>555.81</td>\n",
       "      <td>653.89</td>\n",
       "      <td>32.0</td>\n",
       "      <td>f</td>\n",
       "      <td>f</td>\n",
       "      <td>2014-05-12</td>\n",
       "    </tr>\n",
       "  </tbody>\n",
       "</table>\n",
       "<p>1 rows × 35 columns</p>\n",
       "</div>"
      ],
      "text/plain": [
       "                          projectid                    teacher_acctid  \\\n",
       "0  316ed8fb3b81402ff6ac8f721bb31192  42d43fa6f37314365d08692e08680973   \n",
       "\n",
       "                           schoolid  school_ncesid  school_latitude  \\\n",
       "0  c0e6ce89b244764085691a1b8e28cb81   6.362701e+10         36.57634   \n",
       "\n",
       "   school_longitude school_city school_state  school_zip school_metro  ...  \\\n",
       "0       -119.608713       Selma           CA     93662.0          NaN  ...   \n",
       "\n",
       "  resource_type    poverty_level grade_level fulfillment_labor_materials  \\\n",
       "0         Books  highest poverty  Grades 6-8                        30.0   \n",
       "\n",
       "  total_price_excluding_optional_support  \\\n",
       "0                                 555.81   \n",
       "\n",
       "  total_price_including_optional_support students_reached  \\\n",
       "0                                 653.89             32.0   \n",
       "\n",
       "  eligible_double_your_impact_match eligible_almost_home_match date_posted  \n",
       "0                                 f                          f  2014-05-12  \n",
       "\n",
       "[1 rows x 35 columns]"
      ]
     },
     "execution_count": 90,
     "metadata": {},
     "output_type": "execute_result"
    }
   ],
   "source": [
    "# load dataset\n",
    "projectsOld = pd.read_csv('projects.csv')\n",
    "projectsOld.head(n=1)\n"
   ]
  },
  {
   "cell_type": "code",
   "execution_count": 92,
   "metadata": {},
   "outputs": [
    {
     "data": {
      "text/plain": [
       "(484371, 3)"
      ]
     },
     "execution_count": 92,
     "metadata": {},
     "output_type": "execute_result"
    }
   ],
   "source": [
    "merged = projects[['projectid','date_posted']]\n",
    "merged['year'] = pd.DatetimeIndex(merged['date_posted']).year\n",
    "after2010 = merged[merged['year'] > 2009]\n",
    "after2010.shape\n"
   ]
  },
  {
   "cell_type": "code",
   "execution_count": 93,
   "metadata": {},
   "outputs": [
    {
     "data": {
      "text/plain": [
       "(484371, 37)"
      ]
     },
     "execution_count": 93,
     "metadata": {},
     "output_type": "execute_result"
    }
   ],
   "source": [
    "projects = pd.merge(projectsOld, after2010, on='projectid')\n",
    "projects.shape"
   ]
  },
  {
   "cell_type": "code",
   "execution_count": 94,
   "metadata": {},
   "outputs": [
    {
     "data": {
      "text/plain": [
       "Index(['school_ncesid', 'school_zip', 'school_metro', 'school_district',\n",
       "       'teacher_prefix', 'primary_focus_subject', 'primary_focus_area',\n",
       "       'secondary_focus_subject', 'secondary_focus_area', 'resource_type',\n",
       "       'grade_level', 'students_reached'],\n",
       "      dtype='object')"
      ]
     },
     "execution_count": 94,
     "metadata": {},
     "output_type": "execute_result"
    }
   ],
   "source": [
    "# columns with nan values, after excluding data before 2010\n",
    "projects.columns[projects.isna().sum() > 0]"
   ]
  },
  {
   "cell_type": "code",
   "execution_count": 95,
   "metadata": {},
   "outputs": [],
   "source": [
    "# Encoding school_state\n",
    "# creating instance of labelencoder\n",
    "labelencoder = LabelEncoder()\n",
    "\n",
    "# Assigning numerical values and storing in another column\n",
    "projects['school_state'] = labelencoder.fit_transform(projects['school_state'])\n"
   ]
  },
  {
   "cell_type": "code",
   "execution_count": 96,
   "metadata": {},
   "outputs": [],
   "source": [
    "# Encoding \n",
    "# creating instance of labelencoder\n",
    "labelencoder = LabelEncoder()\n",
    "\n",
    "# Assigning numerical values and storing in another column\n",
    "projects['teacher_acctid'] = labelencoder.fit_transform(projects['teacher_acctid'])\n"
   ]
  },
  {
   "cell_type": "code",
   "execution_count": 97,
   "metadata": {},
   "outputs": [],
   "source": [
    "# Encoding \n",
    "# creating instance of labelencoder\n",
    "labelencoder = LabelEncoder()\n",
    "\n",
    "# Assigning numerical values and storing in another column\n",
    "projects['schoolid'] = labelencoder.fit_transform(projects['schoolid'])\n",
    "\n"
   ]
  },
  {
   "cell_type": "code",
   "execution_count": 98,
   "metadata": {},
   "outputs": [],
   "source": [
    "# Encoding \n",
    "# creating instance of labelencoder\n",
    "labelencoder = LabelEncoder()\n",
    "\n",
    "# Assigning numerical values and storing in another column\n",
    "projects['school_ncesid'] = labelencoder.fit_transform(projects['school_ncesid'])\n",
    "\n",
    "\n"
   ]
  },
  {
   "cell_type": "code",
   "execution_count": 99,
   "metadata": {},
   "outputs": [],
   "source": [
    "# Encoding school_city\n",
    "# creating instance of labelencoder\n",
    "labelencoder = LabelEncoder()\n",
    "\n",
    "# Assigning numerical values and storing in another column\n",
    "projects['school_city'] = labelencoder.fit_transform(projects['school_city'])"
   ]
  },
  {
   "cell_type": "code",
   "execution_count": 100,
   "metadata": {},
   "outputs": [],
   "source": [
    "# Replace NaN values in column school_zip\n",
    "locator = Nominatim(user_agent='myGeocoder')\n",
    "\n",
    "nanSchool_zip = projects[projects['school_zip'].isnull()].index\n",
    "\n",
    "for i in nanSchool_zip:\n",
    "    # Use school_latitude and school_longitude columns\n",
    "    projects['school_zip'][i] = locator.reverse(str(projects['school_latitude'][i]) + \\\n",
    "                                                               ' ,' + str(projects['school_longitude'][i])).raw['address']['postcode']\n"
   ]
  },
  {
   "cell_type": "code",
   "execution_count": 101,
   "metadata": {},
   "outputs": [],
   "source": [
    "# Replace NaN values in column school_metro\n",
    "nanSchool_metro = projects[projects['school_metro'].isnull()].index\n",
    "c = 0\n",
    "\n",
    "for i in nanSchool_metro:\n",
    "\n",
    "    new_value = projects[projects['school_city'] == projects['school_city'][i]]['school_metro'].value_counts()\n",
    "    \n",
    "    if len(new_value) <= 0:\n",
    "        projects['school_metro'][i] = 'other' # corresponding to 'Other'\n",
    "        continue \n",
    "        \n",
    "    c += 1\n",
    "    projects['school_metro'][i] = new_value.index[0]\n",
    "\n",
    "projects[projects['school_metro'].isnull()].index\n",
    "\n",
    "\n",
    "labelencoder = LabelEncoder()\n",
    "projects['school_metro'] = labelencoder.fit_transform(projects['school_metro'])\n",
    "\n",
    "\n"
   ]
  },
  {
   "cell_type": "code",
   "execution_count": 102,
   "metadata": {},
   "outputs": [],
   "source": [
    "# Remove columns school_district and school_county since they are redundant\n",
    "del projects['school_district']\n",
    "del projects['school_county']\n"
   ]
  },
  {
   "cell_type": "code",
   "execution_count": 103,
   "metadata": {},
   "outputs": [],
   "source": [
    "# Convert object type column to boolean\n",
    "\n",
    "projects = projects.replace({'school_charter':{'t':1, 'f':0},\n",
    "                            'school_magnet':{'t':1, 'f':0},\n",
    "                            'school_year_round':{'t':1, 'f':0},\n",
    "                            'school_nlns':{'t':1, 'f':0},\n",
    "                            'school_kipp':{'t':1, 'f':0},\n",
    "                            'school_charter_ready_promise':{'t':1, 'f':0},\n",
    "                            'teacher_teach_for_america':{'t':1, 'f':0},\n",
    "                            'teacher_ny_teaching_fellow':{'t':1, 'f':0},\n",
    "                            'eligible_double_your_impact_match':{'t':1, 'f':0},\n",
    "                            'eligible_almost_home_match':{'t':1, 'f':0}})\n"
   ]
  },
  {
   "cell_type": "code",
   "execution_count": 107,
   "metadata": {},
   "outputs": [],
   "source": [
    "# Encoding teacher_prefix\n",
    "projects['teacher_prefix'] = projects['teacher_prefix'].replace(np.nan, 'Other', regex=True)\n",
    "\n",
    "labelencoder = LabelEncoder()\n",
    "projects['teacher_prefix'] = labelencoder.fit_transform(projects['teacher_prefix'])\n",
    "\n"
   ]
  },
  {
   "cell_type": "code",
   "execution_count": 108,
   "metadata": {},
   "outputs": [],
   "source": [
    "# Fill NaN of secondary_focus_subject with primary_focus_subject, encode and replace rest of NaN\n",
    "\n",
    "projects['secondary_focus_subject'].fillna(projects['primary_focus_subject'], inplace=True)\n",
    "projects['secondary_focus_subject'] = projects['secondary_focus_subject'].replace(np.nan, 'Other', regex=True)\n",
    "\n",
    "labelencoder = LabelEncoder()\n",
    "projects['secondary_focus_subject'] = labelencoder.fit_transform(projects['secondary_focus_subject'])\n",
    "\n",
    "\n",
    "\n",
    "# Fill NaN of secondary_focus_subject with primary_focus_area\n",
    "\n",
    "projects['secondary_focus_area'].fillna(projects['primary_focus_area'], inplace=True)\n",
    "projects['secondary_focus_area'] = projects['secondary_focus_area'].replace(np.nan, 'Other', regex=True)\n",
    "\n",
    "labelencoder = LabelEncoder()\n",
    "projects['secondary_focus_area'] = labelencoder.fit_transform(projects['secondary_focus_area'])\n",
    "\n"
   ]
  },
  {
   "cell_type": "code",
   "execution_count": 109,
   "metadata": {},
   "outputs": [],
   "source": [
    "# Encode primary_focus_subject\n",
    "labelencoder = LabelEncoder()\n",
    "\n",
    "projects['primary_focus_subject'] = projects['primary_focus_subject'].replace(np.nan, 'Other', regex=True)\n",
    "projects['primary_focus_subject'] = labelencoder.fit_transform(projects['primary_focus_subject'])\n",
    "\n",
    "# Encode primary_focus_area\n",
    "labelencoder = LabelEncoder()\n",
    "\n",
    "projects['primary_focus_area'] = projects['primary_focus_area'].replace(np.nan, 'Other', regex=True)\n",
    "projects['primary_focus_area'] = labelencoder.fit_transform(projects['primary_focus_area'])\n",
    "\n",
    "# Encode resource_type\n",
    "labelencoder = LabelEncoder()\n",
    "projects['resource_type'] = projects['resource_type'].replace(np.nan, 'NaN', regex=True)\n",
    "projects['resource_type'] = labelencoder.fit_transform(projects['resource_type'])\n",
    "\n"
   ]
  },
  {
   "cell_type": "code",
   "execution_count": 110,
   "metadata": {},
   "outputs": [],
   "source": [
    "# Encode poverty_level\n",
    "labelencoder = LabelEncoder()\n",
    "projects['poverty_level'] = labelencoder.fit_transform(projects['poverty_level'])\n",
    "\n"
   ]
  },
  {
   "cell_type": "code",
   "execution_count": 111,
   "metadata": {},
   "outputs": [],
   "source": [
    "# Encode resource_type\n",
    "labelencoder = LabelEncoder()\n",
    "projects['grade_level'] = projects['grade_level'].replace(np.nan, 'NaN', regex=True)\n",
    "projects['grade_level'] = labelencoder.fit_transform(projects['grade_level'])\n"
   ]
  },
  {
   "cell_type": "code",
   "execution_count": 112,
   "metadata": {},
   "outputs": [
    {
     "data": {
      "text/plain": [
       "30.0    241102\n",
       "35.0    221145\n",
       "9.0      22124\n",
       "Name: fulfillment_labor_materials, dtype: int64"
      ]
     },
     "execution_count": 112,
     "metadata": {},
     "output_type": "execute_result"
    }
   ],
   "source": [
    "projects['fulfillment_labor_materials'].value_counts()"
   ]
  },
  {
   "cell_type": "markdown",
   "metadata": {},
   "source": [
    "Regarding the Students reached, lets se how many rows have that column as NaN."
   ]
  },
  {
   "cell_type": "code",
   "execution_count": 113,
   "metadata": {},
   "outputs": [
    {
     "data": {
      "text/plain": [
       "146"
      ]
     },
     "execution_count": 113,
     "metadata": {},
     "output_type": "execute_result"
    }
   ],
   "source": [
    "projects['students_reached'].isna().sum()"
   ]
  },
  {
   "cell_type": "markdown",
   "metadata": {},
   "source": [
    "Since there are only 144 rows with no information about the students reached, and this column is revealing useful information, has we have seen on the EDA, I fill the nan values with the mode."
   ]
  },
  {
   "cell_type": "code",
   "execution_count": 114,
   "metadata": {},
   "outputs": [],
   "source": [
    "projects['students_reached'].fillna(projects['students_reached'].mode()[0], inplace=True)\n"
   ]
  },
  {
   "cell_type": "code",
   "execution_count": 121,
   "metadata": {},
   "outputs": [],
   "source": [
    "# Convert date column to columns Year, Month and Day\n",
    "projects['year_posted'] = pd.DatetimeIndex(projects['date_posted_x']).year\n",
    "projects['month_posted'] = pd.DatetimeIndex(projects['date_posted_x']).month\n",
    "projects['day_posted'] = pd.DatetimeIndex(projects['date_posted_x']).day\n",
    "\n"
   ]
  },
  {
   "cell_type": "code",
   "execution_count": 122,
   "metadata": {},
   "outputs": [],
   "source": [
    "# Delete date_posted column\n",
    "del projects['date_posted_x']\n",
    "del projects['date_posted_y']\n"
   ]
  },
  {
   "cell_type": "code",
   "execution_count": 123,
   "metadata": {
    "scrolled": false
   },
   "outputs": [
    {
     "data": {
      "text/plain": [
       "projectid                                  object\n",
       "teacher_acctid                              int64\n",
       "schoolid                                    int64\n",
       "school_ncesid                               int64\n",
       "school_latitude                           float64\n",
       "school_longitude                          float64\n",
       "school_city                                 int64\n",
       "school_state                                int64\n",
       "school_zip                                float64\n",
       "school_metro                                int64\n",
       "school_charter                              int64\n",
       "school_magnet                               int64\n",
       "school_year_round                           int64\n",
       "school_nlns                                 int64\n",
       "school_kipp                                 int64\n",
       "school_charter_ready_promise                int64\n",
       "teacher_prefix                              int64\n",
       "teacher_teach_for_america                   int64\n",
       "teacher_ny_teaching_fellow                  int64\n",
       "primary_focus_subject                       int64\n",
       "primary_focus_area                          int64\n",
       "secondary_focus_subject                     int64\n",
       "secondary_focus_area                        int64\n",
       "resource_type                               int64\n",
       "poverty_level                               int64\n",
       "grade_level                                 int64\n",
       "fulfillment_labor_materials               float64\n",
       "total_price_excluding_optional_support    float64\n",
       "total_price_including_optional_support    float64\n",
       "students_reached                          float64\n",
       "eligible_double_your_impact_match           int64\n",
       "eligible_almost_home_match                  int64\n",
       "year                                        int64\n",
       "year_posted                                 int64\n",
       "month_posted                                int64\n",
       "day_posted                                  int64\n",
       "dtype: object"
      ]
     },
     "execution_count": 123,
     "metadata": {},
     "output_type": "execute_result"
    }
   ],
   "source": [
    "projects.dtypes"
   ]
  },
  {
   "cell_type": "code",
   "execution_count": 124,
   "metadata": {},
   "outputs": [],
   "source": [
    "# Save dataset\n",
    "projects.to_pickle('clean_projects.csv')"
   ]
  },
  {
   "cell_type": "markdown",
   "metadata": {},
   "source": [
    "## Resources.csv"
   ]
  },
  {
   "cell_type": "code",
   "execution_count": 125,
   "metadata": {},
   "outputs": [
    {
     "data": {
      "text/html": [
       "<div>\n",
       "<style scoped>\n",
       "    .dataframe tbody tr th:only-of-type {\n",
       "        vertical-align: middle;\n",
       "    }\n",
       "\n",
       "    .dataframe tbody tr th {\n",
       "        vertical-align: top;\n",
       "    }\n",
       "\n",
       "    .dataframe thead th {\n",
       "        text-align: right;\n",
       "    }\n",
       "</style>\n",
       "<table border=\"1\" class=\"dataframe\">\n",
       "  <thead>\n",
       "    <tr style=\"text-align: right;\">\n",
       "      <th></th>\n",
       "      <th>resourceid</th>\n",
       "      <th>projectid</th>\n",
       "      <th>vendorid</th>\n",
       "      <th>vendor_name</th>\n",
       "      <th>project_resource_type</th>\n",
       "      <th>item_name</th>\n",
       "      <th>item_number</th>\n",
       "      <th>item_unit_price</th>\n",
       "      <th>item_quantity</th>\n",
       "    </tr>\n",
       "  </thead>\n",
       "  <tbody>\n",
       "    <tr>\n",
       "      <th>0</th>\n",
       "      <td>8a1c1c45bc30d065061912fd9114fcf3</td>\n",
       "      <td>ffffc4f85b60efc5b52347df489d0238</td>\n",
       "      <td>430.0</td>\n",
       "      <td>Woodwind and Brasswind</td>\n",
       "      <td>Technology</td>\n",
       "      <td>iPod nano 4th Gen 8GB (Black)</td>\n",
       "      <td>249995.001</td>\n",
       "      <td>149.0</td>\n",
       "      <td>4.0</td>\n",
       "    </tr>\n",
       "  </tbody>\n",
       "</table>\n",
       "</div>"
      ],
      "text/plain": [
       "                         resourceid                         projectid  \\\n",
       "0  8a1c1c45bc30d065061912fd9114fcf3  ffffc4f85b60efc5b52347df489d0238   \n",
       "\n",
       "   vendorid             vendor_name project_resource_type  \\\n",
       "0     430.0  Woodwind and Brasswind            Technology   \n",
       "\n",
       "                       item_name item_number  item_unit_price  item_quantity  \n",
       "0  iPod nano 4th Gen 8GB (Black)  249995.001            149.0            4.0  "
      ]
     },
     "execution_count": 125,
     "metadata": {},
     "output_type": "execute_result"
    }
   ],
   "source": [
    "# load dataset\n",
    "resourcesOld = pd.read_csv('resources.csv')\n",
    "projectidTrain = pd.read_pickle('./train_y.csv')[['projectid']]\n",
    "resourcesOld.head(n=1)\n"
   ]
  },
  {
   "cell_type": "code",
   "execution_count": 126,
   "metadata": {},
   "outputs": [
    {
     "data": {
      "text/plain": [
       "(3667217, 9)"
      ]
     },
     "execution_count": 126,
     "metadata": {},
     "output_type": "execute_result"
    }
   ],
   "source": [
    "resourcesOld.shape"
   ]
  },
  {
   "cell_type": "code",
   "execution_count": 128,
   "metadata": {},
   "outputs": [
    {
     "data": {
      "text/plain": [
       "(484371, 3)"
      ]
     },
     "execution_count": 128,
     "metadata": {},
     "output_type": "execute_result"
    }
   ],
   "source": [
    "merged = projectsOld[['projectid','date_posted']]\n",
    "merged['year'] = pd.DatetimeIndex(merged['date_posted']).year\n",
    "after2010 = merged[merged['year'] > 2009]\n",
    "after2010.shape"
   ]
  },
  {
   "cell_type": "code",
   "execution_count": 129,
   "metadata": {},
   "outputs": [
    {
     "data": {
      "text/plain": [
       "(2749806, 9)"
      ]
     },
     "execution_count": 129,
     "metadata": {},
     "output_type": "execute_result"
    }
   ],
   "source": [
    "resources = pd.merge(resourcesOld, after2010['projectid'], on='projectid')\n",
    "resources.shape"
   ]
  },
  {
   "cell_type": "code",
   "execution_count": 130,
   "metadata": {
    "scrolled": true
   },
   "outputs": [
    {
     "data": {
      "text/html": [
       "<div>\n",
       "<style scoped>\n",
       "    .dataframe tbody tr th:only-of-type {\n",
       "        vertical-align: middle;\n",
       "    }\n",
       "\n",
       "    .dataframe tbody tr th {\n",
       "        vertical-align: top;\n",
       "    }\n",
       "\n",
       "    .dataframe thead th {\n",
       "        text-align: right;\n",
       "    }\n",
       "</style>\n",
       "<table border=\"1\" class=\"dataframe\">\n",
       "  <thead>\n",
       "    <tr style=\"text-align: right;\">\n",
       "      <th></th>\n",
       "      <th>resourceid</th>\n",
       "      <th>projectid</th>\n",
       "      <th>vendorid</th>\n",
       "      <th>vendor_name</th>\n",
       "      <th>project_resource_type</th>\n",
       "      <th>item_name</th>\n",
       "      <th>item_number</th>\n",
       "      <th>item_unit_price</th>\n",
       "      <th>item_quantity</th>\n",
       "    </tr>\n",
       "  </thead>\n",
       "  <tbody>\n",
       "    <tr>\n",
       "      <th>0</th>\n",
       "      <td>015d2c4935c50427964a12dc3f584091</td>\n",
       "      <td>ffffac55ee02a49d1abc87ba6fc61135</td>\n",
       "      <td>82.0</td>\n",
       "      <td>Best Buy for Business</td>\n",
       "      <td>Technology</td>\n",
       "      <td>Sony bloggie MHS-FS1 - camcorder - internal fl...</td>\n",
       "      <td>BB11216668</td>\n",
       "      <td>148.0</td>\n",
       "      <td>1.0</td>\n",
       "    </tr>\n",
       "  </tbody>\n",
       "</table>\n",
       "</div>"
      ],
      "text/plain": [
       "                         resourceid                         projectid  \\\n",
       "0  015d2c4935c50427964a12dc3f584091  ffffac55ee02a49d1abc87ba6fc61135   \n",
       "\n",
       "   vendorid            vendor_name project_resource_type  \\\n",
       "0      82.0  Best Buy for Business            Technology   \n",
       "\n",
       "                                           item_name item_number  \\\n",
       "0  Sony bloggie MHS-FS1 - camcorder - internal fl...  BB11216668   \n",
       "\n",
       "   item_unit_price  item_quantity  \n",
       "0            148.0            1.0  "
      ]
     },
     "execution_count": 130,
     "metadata": {},
     "output_type": "execute_result"
    }
   ],
   "source": [
    "resources.head(n=1)"
   ]
  },
  {
   "cell_type": "code",
   "execution_count": 131,
   "metadata": {},
   "outputs": [],
   "source": [
    "# Get the amount spent by each project\n",
    "\n",
    "# multiply column item_unit_price by item_quantity -> item_total_quantity\n",
    "resources['item_total_quantity'] = resources['item_unit_price'] * resources['item_quantity']\n",
    "\n",
    "# group resources[['projectid', item_total_quantity]] by projectid and sum values of item_total_quantity\n",
    "groupedResources =resources.groupby(['projectid']).sum()"
   ]
  },
  {
   "cell_type": "code",
   "execution_count": 132,
   "metadata": {},
   "outputs": [],
   "source": [
    "# Get main vendor for each projectid\n",
    "\n",
    "# Count num of vendor ocurrences for each projectid, get the max count \n",
    "resources['vendor_name'] = resources['vendor_name'].replace(np.nan, '', regex=True)\n",
    "\n",
    "s = resources.groupby(['projectid','vendor_name']).size()\n",
    "majorVendor = s.loc[s.groupby(level=0).idxmax()].reset_index().drop(0,axis=1)\n"
   ]
  },
  {
   "cell_type": "code",
   "execution_count": 133,
   "metadata": {},
   "outputs": [],
   "source": [
    "# Delete columns item_name, item_number, item_unit_price, item_quantity, vendorid, resourceid, project_resource_type\n",
    "newResources =  pd.merge(groupedResources[[ 'item_quantity', 'item_total_quantity']], majorVendor, on='projectid')\n"
   ]
  },
  {
   "cell_type": "code",
   "execution_count": 134,
   "metadata": {},
   "outputs": [
    {
     "data": {
      "text/html": [
       "<div>\n",
       "<style scoped>\n",
       "    .dataframe tbody tr th:only-of-type {\n",
       "        vertical-align: middle;\n",
       "    }\n",
       "\n",
       "    .dataframe tbody tr th {\n",
       "        vertical-align: top;\n",
       "    }\n",
       "\n",
       "    .dataframe thead th {\n",
       "        text-align: right;\n",
       "    }\n",
       "</style>\n",
       "<table border=\"1\" class=\"dataframe\">\n",
       "  <thead>\n",
       "    <tr style=\"text-align: right;\">\n",
       "      <th></th>\n",
       "      <th>projectid</th>\n",
       "      <th>item_quantity</th>\n",
       "      <th>item_total_quantity</th>\n",
       "      <th>vendor_name</th>\n",
       "    </tr>\n",
       "  </thead>\n",
       "  <tbody>\n",
       "    <tr>\n",
       "      <th>0</th>\n",
       "      <td>00001ccc0e81598c4bd86bacb94d7acb</td>\n",
       "      <td>55.0</td>\n",
       "      <td>1225.44</td>\n",
       "      <td>Lakeshore Learning Materials</td>\n",
       "    </tr>\n",
       "    <tr>\n",
       "      <th>1</th>\n",
       "      <td>00002bff514104264a6b798356fdd893</td>\n",
       "      <td>7.0</td>\n",
       "      <td>399.74</td>\n",
       "      <td>Lakeshore Learning Materials</td>\n",
       "    </tr>\n",
       "    <tr>\n",
       "      <th>2</th>\n",
       "      <td>00002d691c05c51a5fdfbb2baef0ba25</td>\n",
       "      <td>122.0</td>\n",
       "      <td>774.80</td>\n",
       "      <td>AKJ Books</td>\n",
       "    </tr>\n",
       "  </tbody>\n",
       "</table>\n",
       "</div>"
      ],
      "text/plain": [
       "                          projectid  item_quantity  item_total_quantity  \\\n",
       "0  00001ccc0e81598c4bd86bacb94d7acb           55.0              1225.44   \n",
       "1  00002bff514104264a6b798356fdd893            7.0               399.74   \n",
       "2  00002d691c05c51a5fdfbb2baef0ba25          122.0               774.80   \n",
       "\n",
       "                    vendor_name  \n",
       "0  Lakeshore Learning Materials  \n",
       "1  Lakeshore Learning Materials  \n",
       "2                     AKJ Books  "
      ]
     },
     "execution_count": 134,
     "metadata": {},
     "output_type": "execute_result"
    }
   ],
   "source": [
    "newResources.head(n=3)"
   ]
  },
  {
   "cell_type": "code",
   "execution_count": 135,
   "metadata": {},
   "outputs": [],
   "source": [
    "# Encode \n",
    "labelencoder = LabelEncoder()\n",
    "newResources['vendor_name'] = labelencoder.fit_transform(newResources['vendor_name'])\n"
   ]
  },
  {
   "cell_type": "code",
   "execution_count": 136,
   "metadata": {},
   "outputs": [
    {
     "data": {
      "text/plain": [
       "projectid               object\n",
       "item_quantity          float64\n",
       "item_total_quantity    float64\n",
       "vendor_name              int64\n",
       "dtype: object"
      ]
     },
     "execution_count": 136,
     "metadata": {},
     "output_type": "execute_result"
    }
   ],
   "source": [
    "newResources.dtypes"
   ]
  },
  {
   "cell_type": "code",
   "execution_count": 137,
   "metadata": {},
   "outputs": [
    {
     "data": {
      "text/plain": [
       "(484371, 4)"
      ]
     },
     "execution_count": 137,
     "metadata": {},
     "output_type": "execute_result"
    }
   ],
   "source": [
    "newResources.shape"
   ]
  },
  {
   "cell_type": "code",
   "execution_count": 138,
   "metadata": {},
   "outputs": [],
   "source": [
    "# ToDo: Save clean dataset \n",
    "newResources.to_pickle('clean_resources.csv')"
   ]
  },
  {
   "cell_type": "markdown",
   "metadata": {},
   "source": [
    "## Essays.csv\n",
    "\n"
   ]
  },
  {
   "cell_type": "code",
   "execution_count": 139,
   "metadata": {},
   "outputs": [
    {
     "data": {
      "text/html": [
       "<div>\n",
       "<style scoped>\n",
       "    .dataframe tbody tr th:only-of-type {\n",
       "        vertical-align: middle;\n",
       "    }\n",
       "\n",
       "    .dataframe tbody tr th {\n",
       "        vertical-align: top;\n",
       "    }\n",
       "\n",
       "    .dataframe thead th {\n",
       "        text-align: right;\n",
       "    }\n",
       "</style>\n",
       "<table border=\"1\" class=\"dataframe\">\n",
       "  <thead>\n",
       "    <tr style=\"text-align: right;\">\n",
       "      <th></th>\n",
       "      <th>projectid</th>\n",
       "      <th>teacher_acctid</th>\n",
       "      <th>title</th>\n",
       "      <th>short_description</th>\n",
       "      <th>need_statement</th>\n",
       "      <th>essay</th>\n",
       "    </tr>\n",
       "  </thead>\n",
       "  <tbody>\n",
       "    <tr>\n",
       "      <th>0</th>\n",
       "      <td>ffffc4f85b60efc5b52347df489d0238</td>\n",
       "      <td>c24011b20fc161ed02248e85beb59a90</td>\n",
       "      <td>iMath</td>\n",
       "      <td>It is imperative that teachers bring technolog...</td>\n",
       "      <td>My students need four iPods.</td>\n",
       "      <td>I am a fourth year fifth grade math teacher. T...</td>\n",
       "    </tr>\n",
       "  </tbody>\n",
       "</table>\n",
       "</div>"
      ],
      "text/plain": [
       "                          projectid                    teacher_acctid  title  \\\n",
       "0  ffffc4f85b60efc5b52347df489d0238  c24011b20fc161ed02248e85beb59a90  iMath   \n",
       "\n",
       "                                   short_description  \\\n",
       "0  It is imperative that teachers bring technolog...   \n",
       "\n",
       "                 need_statement  \\\n",
       "0  My students need four iPods.   \n",
       "\n",
       "                                               essay  \n",
       "0  I am a fourth year fifth grade math teacher. T...  "
      ]
     },
     "execution_count": 139,
     "metadata": {},
     "output_type": "execute_result"
    }
   ],
   "source": [
    "# Load dataset essays\n",
    "essaysOld = pd.read_csv('essays.csv')\n",
    "essaysOld.head(n=1)"
   ]
  },
  {
   "cell_type": "code",
   "execution_count": 140,
   "metadata": {},
   "outputs": [
    {
     "data": {
      "text/plain": [
       "(664098, 6)"
      ]
     },
     "execution_count": 140,
     "metadata": {},
     "output_type": "execute_result"
    }
   ],
   "source": [
    "essaysOld.shape"
   ]
  },
  {
   "cell_type": "code",
   "execution_count": 141,
   "metadata": {},
   "outputs": [
    {
     "data": {
      "text/plain": [
       "(484371, 3)"
      ]
     },
     "execution_count": 141,
     "metadata": {},
     "output_type": "execute_result"
    }
   ],
   "source": [
    "merged = projectsOld[['projectid','date_posted']]\n",
    "merged['year'] = pd.DatetimeIndex(merged['date_posted']).year\n",
    "after2010 = merged[merged['year'] > 2009]\n",
    "after2010.shape"
   ]
  },
  {
   "cell_type": "code",
   "execution_count": 142,
   "metadata": {},
   "outputs": [],
   "source": [
    "# Remove the projects posted before 2010\n",
    "essays = pd.merge(essaysOld, after2010, on='projectid')"
   ]
  },
  {
   "cell_type": "code",
   "execution_count": 143,
   "metadata": {},
   "outputs": [
    {
     "data": {
      "text/plain": [
       "(484371, 8)"
      ]
     },
     "execution_count": 143,
     "metadata": {},
     "output_type": "execute_result"
    }
   ],
   "source": [
    "essays.shape"
   ]
  },
  {
   "cell_type": "code",
   "execution_count": 144,
   "metadata": {},
   "outputs": [],
   "source": [
    "# Replace the NaN by empty strings\n",
    "essays = essays.replace(np.nan, '', regex=True)"
   ]
  },
  {
   "cell_type": "code",
   "execution_count": 145,
   "metadata": {},
   "outputs": [
    {
     "name": "stderr",
     "output_type": "stream",
     "text": [
      "Warning : `load_model` does not return WordVectorModel or SupervisedModel any more, but a `FastText` object which is very similar.\n"
     ]
    }
   ],
   "source": [
    "# Load pretrained MLP model \n",
    "mlp_model = load_model('/Users/anacosta/Desktop/KaggleComp_DonorsChoose/'+'saved_models/mlp.h5', custom_objects={'custom_loss':custom_loss})\n",
    "\n",
    "fast = load_fastext()"
   ]
  },
  {
   "cell_type": "markdown",
   "metadata": {},
   "source": [
    "#### Title column\n",
    "\n",
    "In this column, the goal is to do a dimensionl sentiment analysis (considering the dimensions Valence and Arousal). The column <b>title</b> will produce the columns <b>title_v</b> and <b>title_a</b>."
   ]
  },
  {
   "cell_type": "code",
   "execution_count": 146,
   "metadata": {},
   "outputs": [
    {
     "data": {
      "text/plain": [
       "14.123394648234049"
      ]
     },
     "execution_count": 146,
     "metadata": {},
     "output_type": "execute_result"
    }
   ],
   "source": [
    "# Preprocess the column Title\n",
    "t0 = time.time() # track time\n",
    "\n",
    "# tokenize the text\n",
    "tokenize_text(essays, 'title')\n",
    "\n",
    "# clean, lemmatize, get embeddings and predict sentiment\n",
    "predict_sentiment(essays, 'title', mlp_model, fast)\n",
    "\n",
    "t1 = time.time()\n",
    "\n",
    "total = t1-t0\n",
    "total/60"
   ]
  },
  {
   "cell_type": "code",
   "execution_count": 147,
   "metadata": {},
   "outputs": [],
   "source": [
    "# fill NaN Rows with [0,0,0]\n",
    "essays.loc[essays['title'].isnull(),['title']] = essays.loc[essays['title'].isnull(),'title'].apply(lambda x: list([0,0,0]))\n"
   ]
  },
  {
   "cell_type": "code",
   "execution_count": 148,
   "metadata": {},
   "outputs": [],
   "source": [
    "# separate column into 3\n",
    "aux = pd.DataFrame(essays['title'].to_list(), columns=['title_v','title_a','title_d'])"
   ]
  },
  {
   "cell_type": "code",
   "execution_count": 149,
   "metadata": {},
   "outputs": [],
   "source": [
    "# Append title_v and title_a to dataset\n",
    "newEssays = pd.merge(aux[['title_v', 'title_a']], essays, left_index=True, right_index=True)"
   ]
  },
  {
   "cell_type": "code",
   "execution_count": 150,
   "metadata": {},
   "outputs": [
    {
     "data": {
      "text/html": [
       "<div>\n",
       "<style scoped>\n",
       "    .dataframe tbody tr th:only-of-type {\n",
       "        vertical-align: middle;\n",
       "    }\n",
       "\n",
       "    .dataframe tbody tr th {\n",
       "        vertical-align: top;\n",
       "    }\n",
       "\n",
       "    .dataframe thead th {\n",
       "        text-align: right;\n",
       "    }\n",
       "</style>\n",
       "<table border=\"1\" class=\"dataframe\">\n",
       "  <thead>\n",
       "    <tr style=\"text-align: right;\">\n",
       "      <th></th>\n",
       "      <th>title_v</th>\n",
       "      <th>title_a</th>\n",
       "      <th>projectid</th>\n",
       "      <th>teacher_acctid</th>\n",
       "      <th>short_description</th>\n",
       "      <th>need_statement</th>\n",
       "      <th>essay</th>\n",
       "      <th>date_posted</th>\n",
       "      <th>year</th>\n",
       "    </tr>\n",
       "  </thead>\n",
       "  <tbody>\n",
       "    <tr>\n",
       "      <th>0</th>\n",
       "      <td>0.795637</td>\n",
       "      <td>0.521858</td>\n",
       "      <td>ffffac55ee02a49d1abc87ba6fc61135</td>\n",
       "      <td>947066d0af47e0566f334566553dd6a6</td>\n",
       "      <td>Can you imagine having to translate everything...</td>\n",
       "      <td>My students need a camcorder.</td>\n",
       "      <td>Can you imagine having to translate everything...</td>\n",
       "      <td>2011-06-11</td>\n",
       "      <td>2011</td>\n",
       "    </tr>\n",
       "  </tbody>\n",
       "</table>\n",
       "</div>"
      ],
      "text/plain": [
       "    title_v   title_a                         projectid  \\\n",
       "0  0.795637  0.521858  ffffac55ee02a49d1abc87ba6fc61135   \n",
       "\n",
       "                     teacher_acctid  \\\n",
       "0  947066d0af47e0566f334566553dd6a6   \n",
       "\n",
       "                                   short_description  \\\n",
       "0  Can you imagine having to translate everything...   \n",
       "\n",
       "                   need_statement  \\\n",
       "0  My students need a camcorder.    \n",
       "\n",
       "                                               essay date_posted  year  \n",
       "0  Can you imagine having to translate everything...  2011-06-11  2011  "
      ]
     },
     "execution_count": 150,
     "metadata": {},
     "output_type": "execute_result"
    }
   ],
   "source": [
    "# Remove Title \n",
    "del newEssays['title']\n",
    "newEssays.head(n=1)"
   ]
  },
  {
   "cell_type": "code",
   "execution_count": 151,
   "metadata": {},
   "outputs": [],
   "source": [
    "# Saving all the intermediate steps because it takes a long time to run\n",
    "newEssays.to_pickle('essaysTitle.csv')"
   ]
  },
  {
   "cell_type": "markdown",
   "metadata": {},
   "source": [
    "#### Short description Column\n",
    "\n",
    "Get a column with the number of words of the short description (<b>numb_words_short_description</b>)"
   ]
  },
  {
   "cell_type": "code",
   "execution_count": 152,
   "metadata": {},
   "outputs": [],
   "source": [
    "newEssays = pd.read_pickle('./essaysTitle.csv')\n",
    "\n",
    "newEssays = newEssays.replace(np.nan, '', regex=True)"
   ]
  },
  {
   "cell_type": "code",
   "execution_count": 153,
   "metadata": {},
   "outputs": [
    {
     "data": {
      "text/plain": [
       "0         [can, you, imagine, having, to, translate, eve...\n",
       "1         [it, takes, a, special, person, to, donate, to...\n",
       "2         [my, kindergarten, students, come, from, a, va...\n",
       "3         [have, you, ever, had, to, crowd, around, an, ...\n",
       "4         [the, rewards, of, playing, a, musical, instru...\n",
       "                                ...                        \n",
       "484366    [kindergarten, is, an, exciting, time, for, le...\n",
       "484367    [my, students, have, very, limited, exposure, ...\n",
       "484368    [my, students, need, high, quality, books, suc...\n",
       "484369    [my, students, need, more, incentives, to, mak...\n",
       "484370    [my, students, would, love, the, opportunity, ...\n",
       "Name: short_description, Length: 484371, dtype: object"
      ]
     },
     "execution_count": 153,
     "metadata": {},
     "output_type": "execute_result"
    }
   ],
   "source": [
    "# Preprocess the column short_description\n",
    "\n",
    "# tokenize the text\n",
    "tokenize_text(newEssays, 'short_description')\n"
   ]
  },
  {
   "cell_type": "code",
   "execution_count": 154,
   "metadata": {},
   "outputs": [],
   "source": [
    "# Get column numb_words_short_description\n",
    "# count the number of words\n",
    "newEssays['numb_words_short_description'] = newEssays['short_description'].apply(lambda x: len(x))\n"
   ]
  },
  {
   "cell_type": "code",
   "execution_count": 155,
   "metadata": {},
   "outputs": [
    {
     "data": {
      "text/plain": [
       "0         [imagine, translate, everything, read, sign, l...\n",
       "1         [take, special, person, donate, group, child, ...\n",
       "2         [kindergarten, student, come, variety, backgro...\n",
       "3         [ever, crowd, around, ipad, screen, access, in...\n",
       "4         [reward, playing, musical, instrument, great, ...\n",
       "                                ...                        \n",
       "484366    [kindergarten, exciting, time, learning, espec...\n",
       "484367    [student, limited, exposure, technology, techn...\n",
       "484368    [student, need, high, quality, book, worth, ch...\n",
       "484369    [student, need, incentive, make, better, faste...\n",
       "484370    [student, would, love, opportunity, create, ma...\n",
       "Name: short_description, Length: 484371, dtype: object"
      ]
     },
     "execution_count": 155,
     "metadata": {},
     "output_type": "execute_result"
    }
   ],
   "source": [
    "clean_stopwords(newEssays, 'short_description')\n",
    "lematize(newEssays, 'short_description')"
   ]
  },
  {
   "cell_type": "code",
   "execution_count": 156,
   "metadata": {},
   "outputs": [],
   "source": [
    "# Count number of words\n",
    "counter = Counter()\n",
    "_ = newEssays['short_description'].apply(lambda x: counter.update(x))\n"
   ]
  },
  {
   "cell_type": "markdown",
   "metadata": {},
   "source": [
    "This part was commented because it takes too much time to run."
   ]
  },
  {
   "cell_type": "code",
   "execution_count": 157,
   "metadata": {},
   "outputs": [
    {
     "data": {
      "text/plain": [
       "\"\\n# Get column uniq_words_short_description\\n\\n# compute unique words\\n\\nuniqueWords = [key  for (key, value) in counter.items() if value == 1]\\n\\n# count unique words each row\\nnotUniq = newEssays['short_description'].apply(lambda x: pd.Series(x).isin(uniqueWords).value_counts())\\n#newEssays['short_description'].isin(uniqueWords).value_counts()[True]\\n\\nnewEssays['uniq_words_short_description'] = newEssays['numb_words_short_description'] - notUniq.squeeze()\\n\""
      ]
     },
     "execution_count": 157,
     "metadata": {},
     "output_type": "execute_result"
    }
   ],
   "source": [
    "'''\n",
    "# Get column uniq_words_short_description\n",
    "\n",
    "# compute unique words\n",
    "\n",
    "uniqueWords = [key  for (key, value) in counter.items() if value == 1]\n",
    "\n",
    "# count unique words each row\n",
    "notUniq = newEssays['short_description'].apply(lambda x: pd.Series(x).isin(uniqueWords).value_counts())\n",
    "#newEssays['short_description'].isin(uniqueWords).value_counts()[True]\n",
    "\n",
    "newEssays['uniq_words_short_description'] = newEssays['numb_words_short_description'] - notUniq.squeeze()\n",
    "'''"
   ]
  },
  {
   "cell_type": "code",
   "execution_count": 158,
   "metadata": {},
   "outputs": [],
   "source": [
    "# Get column most_common_short_description\n",
    "\n",
    "most_common50 = counter.most_common(100) \n"
   ]
  },
  {
   "cell_type": "code",
   "execution_count": 159,
   "metadata": {},
   "outputs": [],
   "source": [
    "most_common_short_description = newEssays['short_description'].apply(lambda x: pd.Series(x).isin(most_common50).value_counts())\n",
    "\n"
   ]
  },
  {
   "cell_type": "code",
   "execution_count": 160,
   "metadata": {},
   "outputs": [],
   "source": [
    "newEssays['most_common_short_description'] = newEssays['numb_words_short_description'] - most_common_short_description.squeeze()\n"
   ]
  },
  {
   "cell_type": "code",
   "execution_count": 161,
   "metadata": {},
   "outputs": [],
   "source": [
    "# Saving all the intermediate steps because it takes a long time to run\n",
    "newEssays.to_pickle('essaysShortDescript.csv')\n"
   ]
  },
  {
   "cell_type": "markdown",
   "metadata": {},
   "source": [
    "#### Essay Column\n",
    "\n",
    "Since treating text is too expensive, from this column we will only extract the number of words that each essay has and then will delete the Essay column from this dataset."
   ]
  },
  {
   "cell_type": "code",
   "execution_count": 162,
   "metadata": {},
   "outputs": [],
   "source": [
    "newEssays = pd.read_pickle('./essaysShortDescript.csv')\n",
    "\n",
    "newEssays = newEssays.replace(np.nan, '', regex=True)\n"
   ]
  },
  {
   "cell_type": "code",
   "execution_count": 163,
   "metadata": {},
   "outputs": [
    {
     "data": {
      "text/plain": [
       "0         [can, you, imagine, having, to, translate, eve...\n",
       "1         [hi, i, teach, a, wonderful, group, of, 4, 5, ...\n",
       "2         [my, kindergarten, students, come, from, a, va...\n",
       "3         [have, you, ever, had, to, crowd, around, an, ...\n",
       "4         [the, rewards, of, playing, a, musical, instru...\n",
       "                                ...                        \n",
       "484366    [kindergarten, is, an, exciting, time, for, le...\n",
       "484367    [my, students, have, very, limited, exposure, ...\n",
       "484368    [our, students, need, the, challenge, to, read...\n",
       "484369    [my, students, need, more, incentives, to, mak...\n",
       "484370    [my, students, would, love, the, opportunity, ...\n",
       "Name: essay, Length: 484371, dtype: object"
      ]
     },
     "execution_count": 163,
     "metadata": {},
     "output_type": "execute_result"
    }
   ],
   "source": [
    "# Preprocess the column essays\n",
    "\n",
    "# tokenize the text\n",
    "tokenize_text(newEssays, 'essay')"
   ]
  },
  {
   "cell_type": "code",
   "execution_count": 164,
   "metadata": {},
   "outputs": [],
   "source": [
    "# Get column numb_words_essay\n",
    "# count the number of words\n",
    "newEssays['numb_words_essay'] = newEssays['essay'].apply(lambda x: len(x))\n"
   ]
  },
  {
   "cell_type": "code",
   "execution_count": 165,
   "metadata": {},
   "outputs": [
    {
     "data": {
      "text/html": [
       "<div>\n",
       "<style scoped>\n",
       "    .dataframe tbody tr th:only-of-type {\n",
       "        vertical-align: middle;\n",
       "    }\n",
       "\n",
       "    .dataframe tbody tr th {\n",
       "        vertical-align: top;\n",
       "    }\n",
       "\n",
       "    .dataframe thead th {\n",
       "        text-align: right;\n",
       "    }\n",
       "</style>\n",
       "<table border=\"1\" class=\"dataframe\">\n",
       "  <thead>\n",
       "    <tr style=\"text-align: right;\">\n",
       "      <th></th>\n",
       "      <th>title_v</th>\n",
       "      <th>title_a</th>\n",
       "      <th>projectid</th>\n",
       "      <th>teacher_acctid</th>\n",
       "      <th>short_description</th>\n",
       "      <th>need_statement</th>\n",
       "      <th>essay</th>\n",
       "      <th>date_posted</th>\n",
       "      <th>year</th>\n",
       "      <th>numb_words_short_description</th>\n",
       "      <th>most_common_short_description</th>\n",
       "      <th>numb_words_essay</th>\n",
       "    </tr>\n",
       "  </thead>\n",
       "  <tbody>\n",
       "    <tr>\n",
       "      <th>0</th>\n",
       "      <td>0.795637</td>\n",
       "      <td>0.521858</td>\n",
       "      <td>ffffac55ee02a49d1abc87ba6fc61135</td>\n",
       "      <td>947066d0af47e0566f334566553dd6a6</td>\n",
       "      <td>[imagine, translate, everything, read, sign, l...</td>\n",
       "      <td>My students need a camcorder.</td>\n",
       "      <td>[can, you, imagine, having, to, translate, eve...</td>\n",
       "      <td>2011-06-11</td>\n",
       "      <td>2011</td>\n",
       "      <td>36</td>\n",
       "      <td>20</td>\n",
       "      <td>199</td>\n",
       "    </tr>\n",
       "  </tbody>\n",
       "</table>\n",
       "</div>"
      ],
      "text/plain": [
       "    title_v   title_a                         projectid  \\\n",
       "0  0.795637  0.521858  ffffac55ee02a49d1abc87ba6fc61135   \n",
       "\n",
       "                     teacher_acctid  \\\n",
       "0  947066d0af47e0566f334566553dd6a6   \n",
       "\n",
       "                                   short_description  \\\n",
       "0  [imagine, translate, everything, read, sign, l...   \n",
       "\n",
       "                   need_statement  \\\n",
       "0  My students need a camcorder.    \n",
       "\n",
       "                                               essay date_posted  year  \\\n",
       "0  [can, you, imagine, having, to, translate, eve...  2011-06-11  2011   \n",
       "\n",
       "   numb_words_short_description most_common_short_description  \\\n",
       "0                            36                            20   \n",
       "\n",
       "   numb_words_essay  \n",
       "0               199  "
      ]
     },
     "execution_count": 165,
     "metadata": {},
     "output_type": "execute_result"
    }
   ],
   "source": [
    "newEssays.head(n=1)"
   ]
  },
  {
   "cell_type": "code",
   "execution_count": null,
   "metadata": {},
   "outputs": [],
   "source": [
    "# Remove columns \n",
    "del newEssays['short_description']\n",
    "del newEssays['need_statement']\n",
    "del newEssays['essay']\n",
    "del newEssays['teacher_acctid']\n",
    "\n"
   ]
  },
  {
   "cell_type": "code",
   "execution_count": 174,
   "metadata": {},
   "outputs": [],
   "source": [
    "del newEssays['date_posted']"
   ]
  },
  {
   "cell_type": "code",
   "execution_count": 183,
   "metadata": {},
   "outputs": [],
   "source": [
    "newEssays['most_common_short_description'] = newEssays['most_common_short_description'].replace('', 0, regex=True)\n"
   ]
  },
  {
   "cell_type": "code",
   "execution_count": 184,
   "metadata": {},
   "outputs": [
    {
     "data": {
      "text/plain": [
       "title_v                          float64\n",
       "title_a                          float64\n",
       "projectid                         object\n",
       "year                               int64\n",
       "numb_words_short_description       int64\n",
       "most_common_short_description    float64\n",
       "numb_words_essay                   int64\n",
       "dtype: object"
      ]
     },
     "execution_count": 184,
     "metadata": {},
     "output_type": "execute_result"
    }
   ],
   "source": [
    "newEssays.dtypes"
   ]
  },
  {
   "cell_type": "code",
   "execution_count": 185,
   "metadata": {},
   "outputs": [],
   "source": [
    "# Saving clean essays\n",
    "newEssays.to_pickle('clean_essays.csv')\n"
   ]
  },
  {
   "cell_type": "markdown",
   "metadata": {},
   "source": [
    "## Merge all datasets into Train X"
   ]
  },
  {
   "cell_type": "code",
   "execution_count": 186,
   "metadata": {},
   "outputs": [],
   "source": [
    "clean_Essays = pd.read_pickle('./clean_essays.csv')\n",
    "\n",
    "clean_Projects = pd.read_pickle('./clean_projects.csv')\n",
    "\n",
    "clean_Resources = pd.read_pickle('./clean_resources.csv')\n"
   ]
  },
  {
   "cell_type": "code",
   "execution_count": 187,
   "metadata": {},
   "outputs": [
    {
     "data": {
      "text/plain": [
       "(484371, 7)"
      ]
     },
     "execution_count": 187,
     "metadata": {},
     "output_type": "execute_result"
    }
   ],
   "source": [
    "clean_Essays.shape\n"
   ]
  },
  {
   "cell_type": "code",
   "execution_count": 188,
   "metadata": {},
   "outputs": [
    {
     "data": {
      "text/plain": [
       "(484371, 36)"
      ]
     },
     "execution_count": 188,
     "metadata": {},
     "output_type": "execute_result"
    }
   ],
   "source": [
    "clean_Projects.shape\n"
   ]
  },
  {
   "cell_type": "code",
   "execution_count": 189,
   "metadata": {},
   "outputs": [
    {
     "data": {
      "text/plain": [
       "(484371, 4)"
      ]
     },
     "execution_count": 189,
     "metadata": {},
     "output_type": "execute_result"
    }
   ],
   "source": [
    "clean_Resources.shape"
   ]
  },
  {
   "cell_type": "code",
   "execution_count": 190,
   "metadata": {},
   "outputs": [],
   "source": [
    "mergedX = pd.merge(clean_Essays, clean_Projects, on='projectid')\n"
   ]
  },
  {
   "cell_type": "code",
   "execution_count": 191,
   "metadata": {},
   "outputs": [],
   "source": [
    "mergedX = pd.merge(mergedX, clean_Resources, on='projectid')\n"
   ]
  },
  {
   "cell_type": "code",
   "execution_count": 192,
   "metadata": {},
   "outputs": [
    {
     "data": {
      "text/plain": [
       "(484371, 45)"
      ]
     },
     "execution_count": 192,
     "metadata": {},
     "output_type": "execute_result"
    }
   ],
   "source": [
    "mergedX.shape"
   ]
  },
  {
   "cell_type": "code",
   "execution_count": 201,
   "metadata": {},
   "outputs": [
    {
     "data": {
      "text/plain": [
       "Index(['title_v', 'title_a', 'projectid', 'year_x',\n",
       "       'numb_words_short_description', 'most_common_short_description',\n",
       "       'numb_words_essay', 'teacher_acctid', 'schoolid', 'school_ncesid',\n",
       "       'school_latitude', 'school_longitude', 'school_city', 'school_state',\n",
       "       'school_zip', 'school_metro', 'school_charter', 'school_magnet',\n",
       "       'school_year_round', 'school_nlns', 'school_kipp',\n",
       "       'school_charter_ready_promise', 'teacher_prefix',\n",
       "       'teacher_teach_for_america', 'teacher_ny_teaching_fellow',\n",
       "       'primary_focus_subject', 'primary_focus_area',\n",
       "       'secondary_focus_subject', 'secondary_focus_area', 'resource_type',\n",
       "       'poverty_level', 'grade_level', 'fulfillment_labor_materials',\n",
       "       'total_price_excluding_optional_support',\n",
       "       'total_price_including_optional_support', 'students_reached',\n",
       "       'eligible_double_your_impact_match', 'eligible_almost_home_match',\n",
       "       'year_y', 'year_posted', 'month_posted', 'day_posted', 'item_quantity',\n",
       "       'item_total_quantity', 'vendor_name'],\n",
       "      dtype='object')"
      ]
     },
     "execution_count": 201,
     "metadata": {},
     "output_type": "execute_result"
    }
   ],
   "source": [
    "mergedX.columns"
   ]
  },
  {
   "cell_type": "code",
   "execution_count": 202,
   "metadata": {},
   "outputs": [],
   "source": [
    "mergedX['year'] = mergedX['year_x']\n",
    "\n",
    "del mergedX['year_x']\n",
    "del mergedX['year_y']\n"
   ]
  },
  {
   "cell_type": "code",
   "execution_count": 207,
   "metadata": {},
   "outputs": [],
   "source": [
    "train_mergedX = mergedX[mergedX['year'] < 2014]\n",
    "\n",
    "# Saving train dataset\n",
    "train_mergedX.to_pickle('train_x.csv')\n"
   ]
  },
  {
   "cell_type": "code",
   "execution_count": 209,
   "metadata": {},
   "outputs": [],
   "source": [
    "test_mergedX = mergedX[mergedX['year'] < 2014]\n",
    "\n",
    "# Saving train dataset\n",
    "test_mergedX.to_pickle('test_x.csv')\n"
   ]
  },
  {
   "cell_type": "code",
   "execution_count": null,
   "metadata": {},
   "outputs": [],
   "source": []
  }
 ],
 "metadata": {
  "kernelspec": {
   "display_name": "Python 3",
   "language": "python",
   "name": "python3"
  },
  "language_info": {
   "codemirror_mode": {
    "name": "ipython",
    "version": 3
   },
   "file_extension": ".py",
   "mimetype": "text/x-python",
   "name": "python",
   "nbconvert_exporter": "python",
   "pygments_lexer": "ipython3",
   "version": "3.7.6"
  }
 },
 "nbformat": 4,
 "nbformat_minor": 4
}
